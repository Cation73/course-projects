{
  "nbformat": 4,
  "nbformat_minor": 0,
  "metadata": {
    "colab": {
      "name": "hyperparameter_tuning.ipynb",
      "provenance": [],
      "collapsed_sections": []
    },
    "kernelspec": {
      "name": "python3",
      "display_name": "Python 3"
    },
    "language_info": {
      "name": "python"
    }
  },
  "cells": [
    {
      "cell_type": "code",
      "metadata": {
        "id": "G8AtZ7h-T4d2"
      },
      "source": [
        "import numpy as np\n",
        "import pandas as pd \n",
        "import os\n",
        "\n",
        "from sklearn.preprocessing import LabelEncoder\n",
        "from sklearn.model_selection import cross_val_score, RandomizedSearchCV\n",
        "from sklearn.metrics import mean_squared_error\n",
        "from sklearn.linear_model import LinearRegression\n",
        "from sklearn.ensemble import RandomForestRegressor\n",
        "\n",
        "from catboost import CatBoostRegressor\n",
        "import lightgbm as lgb"
      ],
      "execution_count": null,
      "outputs": []
    },
    {
      "cell_type": "code",
      "metadata": {
        "id": "qQUnxiZtTu6c"
      },
      "source": [
        "# import finished dataset\n",
        "train_merge = pd.read_pickle(os.path.join(os.path.dirname(__file__), '../data/train_merge.pkl')\n",
        "train_merge.info()"
      ],
      "execution_count": null,
      "outputs": []
    },
    {
      "cell_type": "code",
      "metadata": {
        "id": "k24UIwbkUz5C"
      },
      "source": [
        "# split dataset\n",
        "X_train = train_merge[train_merge.date_block_num < 33].drop(['item_cnt_month'], axis=1)\n",
        "y_train = train_merge[train_merge.date_block_num < 33]['item_cnt_month']\n",
        "X_valid = train_merge[train_merge.date_block_num == 33].drop(['item_cnt_month'], axis=1)\n",
        "y_valid = train_merge[train_merge.date_block_num == 33]['item_cnt_month']\n",
        "X_test = train_merge[train_merge.date_block_num == 34].drop(['item_cnt_month'], axis=1)\n",
        "print('Shape X_train: {}'.format(X_train.shape))\n",
        "print()\n",
        "print('Shape y_train: {}'.format(y_train.shape))\n",
        "print()\n",
        "print('Shape X_valid: {}'.format(X_valid.shape))\n",
        "print()\n",
        "print('Shape y_valid: {}'.format(y_valid.shape))\n",
        "print()\n",
        "print('Shape X_test: {}'.format(X_test.shape))"
      ],
      "execution_count": null,
      "outputs": []
    },
    {
      "cell_type": "code",
      "metadata": {
        "id": "1-BaC6gaUAcL"
      },
      "source": [
        "# catboost grid search\n",
        "# model and params\n",
        "cat_features = ['country_part', \n",
        "                'item_category_common',\n",
        "                'item_category_id', \n",
        "                'city_code']\n",
        "\n",
        "catboost = CatBoostRegressor(random_state=1, \n",
        "                             iterations=2000, verbose=200,\n",
        "                             loss_function='RMSE', eval_metric='RMSE',\n",
        "                             task_type='GPU',early_stopping_rounds=30,\n",
        "                             grow_policy='Lossguide', bootstrap_type='Poisson',\n",
        "                            cat_features=cat_features)\n",
        "\n",
        "parameters_cb = {'learning_rate': [0.01, 0.05, 0.1],\n",
        "        'depth': [4, 8, 10],\n",
        "        'l2_leaf_reg': [3, 7, 9],\n",
        "        'subsample': [0.2, 0.7, 1],\n",
        "        'max_leaves':[31, 1023, 2047],\n",
        "        'min_data_in_leaf':[1, 5, 10, 15]"
      ],
      "execution_count": null,
      "outputs": []
    },
    {
      "cell_type": "code",
      "metadata": {
        "id": "7NWHMG66UAeN"
      },
      "source": [
        "# define and fit model\n",
        "search_cb = RandomizedSearchCV(catboost, parameters_cb, cv=3, scoring = 'neg_mean_squared_error', random_state = 1)\n",
        "search_cb.fit(X_train, y_train)\n",
        "best_cb = search_cb.best_estimator_"
      ],
      "execution_count": null,
      "outputs": []
    },
    {
      "cell_type": "code",
      "metadata": {
        "id": "qI44b5bIkSrG"
      },
      "source": [
        "best_cb.get_params()"
      ],
      "execution_count": null,
      "outputs": []
    },
    {
      "cell_type": "markdown",
      "metadata": {
        "id": "vi-N80mwkJw4"
      },
      "source": [
        "Get parameters:\n",
        "{'iterations': 2000, \n",
        " 'learning_rate': 0.01,\n",
        " 'depth': 4,\n",
        " 'l2_leaf_reg': 7,\n",
        " 'loss_function': 'RMSE',\n",
        " 'verbose': 200,\n",
        " 'eval_metric': 'RMSE',\n",
        " 'task_type': 'GPU',\n",
        " 'bootstrap_type': 'Poisson',\n",
        " 'subsample': 0.7,\n",
        " 'random_state': 1,\n",
        " 'early_stopping_rounds': 30,\n",
        " 'cat_features': ['country_part',\n",
        "  'item_category_common',\n",
        "  'item_category_id',\n",
        "  'city_code'],\n",
        " 'grow_policy': 'Lossguide',\n",
        " 'min_data_in_leaf': 1,\n",
        " 'max_leaves': 2047}"
      ]
    },
    {
      "cell_type": "code",
      "metadata": {
        "id": "3C9SnF_6UAkh"
      },
      "source": [
        "# lightgbm grid search\n",
        "# model and params\n",
        "lgb_train = lgb.Dataset(X_train, y_train)\n",
        "lgb_valid = lgb.Dataset(X_valid, y_valid)\n",
        "lightgbm = lgb.LGBMRegressor(random_state=1, objective='rmse', metric='rmse')\n",
        "parameters_lgb = {'learning_rate': [0.01, 0.05, 0.1],\n",
        "        'depth': [4, 8, 10],\n",
        "        'reg_lambda': [0, 0.5, 9],\n",
        "        'subsample': [0.2, 0.7, 1],\n",
        "        'num_leaves':[31, 511, 1023, 2047],\n",
        "        'min_child_samples':[10, 20, 30],\n",
        "        'n_estimators':range(50, 301, 50)\n",
        "        }"
      ],
      "execution_count": null,
      "outputs": []
    },
    {
      "cell_type": "code",
      "metadata": {
        "id": "GFI0DsorUAog"
      },
      "source": [
        "# define and fit model\n",
        "search_lgb = RandomizedSearchCV(lightgbm, parameters_lgb, cv=3, scoring = 'neg_mean_squared_error', random_state = 1)\n",
        "search_lgb.fit(X_train, y_train)\n",
        "best_lgb = search_lgb.best_estimator_"
      ],
      "execution_count": null,
      "outputs": []
    },
    {
      "cell_type": "markdown",
      "metadata": {
        "id": "bp2bvnxQyuaA"
      },
      "source": [
        "params = {\n",
        "    'objective': 'rmse',\n",
        "    'metric': 'rmse',\n",
        "    'num_leaves': 1023,\n",
        "    'min_data_in_leaf':10,\n",
        "    'feature_fraction': 0.7,\n",
        "    'learning_rate': 0.01,\n",
        "    'num_rounds': 2000,\n",
        "    'early_stopping_rounds': 30,\n",
        "    'seed': 1\n",
        "}"
      ]
    },
    {
      "cell_type": "code",
      "metadata": {
        "id": "y5i1_gCuUAqT"
      },
      "source": [
        "# random forest grid search\n",
        "# model and params\n",
        "rf_rs = RandomForestRegressor(random_state = 1)\n",
        "parameters_rf = {'n_estimators': range(25, 126, 25), \n",
        "                 'max_depth':range(4, 11), \n",
        "                 'min_samples_split': range(1, 12, 2), \n",
        "                 'min_samples_leaf': range(1, 12, 2), \n",
        "                 'max_features':['auto', 'log2', 'sqrt']}"
      ],
      "execution_count": null,
      "outputs": []
    },
    {
      "cell_type": "code",
      "metadata": {
        "id": "G2wtpTl_UAsT"
      },
      "source": [
        "# define and fit model\n",
        "search_rf = RandomizedSearchCV(rf_rs, parameters_rf, cv=3, scoring = 'neg_mean_squared_error', n_jobs = -1, random_state = 1)\n",
        "search_rf.fit(X_train, y_train)\n",
        "best_rf = search_rf.best_estimator_"
      ],
      "execution_count": null,
      "outputs": []
    },
    {
      "cell_type": "markdown",
      "metadata": {
        "id": "An455bqh5HTx"
      },
      "source": [
        "RandomForestRegressor(max_depth=10, max_features='sqrt', min_samples_leaf=7,\n",
        "                      min_samples_split=11, n_estimators=75, random_state=1)"
      ]
    }
  ]
}