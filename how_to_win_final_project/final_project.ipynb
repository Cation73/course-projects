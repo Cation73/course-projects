{
 "cells": [
  {
   "cell_type": "code",
   "execution_count": 1,
   "id": "2b821a3d",
   "metadata": {
    "_cell_guid": "b1076dfc-b9ad-4769-8c92-a6c4dae69d19",
    "_uuid": "8f2839f25d086af736a60e9eeb907d3b93b6e0e5",
    "execution": {
     "iopub.execute_input": "2021-08-03T14:14:59.819439Z",
     "iopub.status.busy": "2021-08-03T14:14:59.817860Z",
     "iopub.status.idle": "2021-08-03T14:15:03.474199Z",
     "shell.execute_reply": "2021-08-03T14:15:03.472970Z"
    },
    "papermill": {
     "duration": 3.721509,
     "end_time": "2021-08-03T14:15:03.474373",
     "exception": false,
     "start_time": "2021-08-03T14:14:59.752864",
     "status": "completed"
    },
    "tags": []
   },
   "outputs": [
    {
     "data": {
      "text/html": [
       "<style type='text/css'>\n",
       ".datatable table.frame { margin-bottom: 0; }\n",
       ".datatable table.frame thead { border-bottom: none; }\n",
       ".datatable table.frame tr.coltypes td {  color: #FFFFFF;  line-height: 6px;  padding: 0 0.5em;}\n",
       ".datatable .bool    { background: #DDDD99; }\n",
       ".datatable .object  { background: #565656; }\n",
       ".datatable .int     { background: #5D9E5D; }\n",
       ".datatable .float   { background: #4040CC; }\n",
       ".datatable .str     { background: #CC4040; }\n",
       ".datatable .time    { background: #40CC40; }\n",
       ".datatable .row_index {  background: var(--jp-border-color3);  border-right: 1px solid var(--jp-border-color0);  color: var(--jp-ui-font-color3);  font-size: 9px;}\n",
       ".datatable .frame tbody td { text-align: left; }\n",
       ".datatable .frame tr.coltypes .row_index {  background: var(--jp-border-color0);}\n",
       ".datatable th:nth-child(2) { padding-left: 12px; }\n",
       ".datatable .hellipsis {  color: var(--jp-cell-editor-border-color);}\n",
       ".datatable .vellipsis {  background: var(--jp-layout-color0);  color: var(--jp-cell-editor-border-color);}\n",
       ".datatable .na {  color: var(--jp-cell-editor-border-color);  font-size: 80%;}\n",
       ".datatable .sp {  opacity: 0.25;}\n",
       ".datatable .footer { font-size: 9px; }\n",
       ".datatable .frame_dimensions {  background: var(--jp-border-color3);  border-top: 1px solid var(--jp-border-color0);  color: var(--jp-ui-font-color3);  display: inline-block;  opacity: 0.6;  padding: 1px 10px 1px 5px;}\n",
       "</style>\n"
      ],
      "text/plain": [
       "<IPython.core.display.HTML object>"
      ]
     },
     "metadata": {},
     "output_type": "display_data"
    }
   ],
   "source": [
    "import numpy as np\n",
    "import pandas as pd \n",
    "from itertools import product\n",
    "import pickle\n",
    "\n",
    "import matplotlib.pyplot as plt\n",
    "import seaborn as sns\n",
    "\n",
    "from sklearn.preprocessing import LabelEncoder, MinMaxScaler\n",
    "from sklearn.model_selection import cross_val_score, RandomizedSearchCV\n",
    "from sklearn.metrics import mean_squared_error\n",
    "from sklearn.linear_model import LinearRegression\n",
    "from sklearn.ensemble import RandomForestRegressor\n",
    "\n",
    "from catboost import CatBoostRegressor\n",
    "import lightgbm as lgb\n",
    "\n",
    "\n",
    "pd.set_option('display.max_columns', 30)"
   ]
  },
  {
   "cell_type": "markdown",
   "id": "4244f093",
   "metadata": {
    "papermill": {
     "duration": 0.057889,
     "end_time": "2021-08-03T14:15:03.595454",
     "exception": false,
     "start_time": "2021-08-03T14:15:03.537565",
     "status": "completed"
    },
    "tags": []
   },
   "source": [
    "# **Datasets research**"
   ]
  },
  {
   "cell_type": "markdown",
   "id": "1399d77f",
   "metadata": {
    "papermill": {
     "duration": 0.057629,
     "end_time": "2021-08-03T14:15:03.712812",
     "exception": false,
     "start_time": "2021-08-03T14:15:03.655183",
     "status": "completed"
    },
    "tags": []
   },
   "source": [
    "**Dataset items**"
   ]
  },
  {
   "cell_type": "code",
   "execution_count": 2,
   "id": "4315ac97",
   "metadata": {
    "execution": {
     "iopub.execute_input": "2021-08-03T14:15:03.836088Z",
     "iopub.status.busy": "2021-08-03T14:15:03.835304Z",
     "iopub.status.idle": "2021-08-03T14:15:03.932837Z",
     "shell.execute_reply": "2021-08-03T14:15:03.932243Z"
    },
    "papermill": {
     "duration": 0.161039,
     "end_time": "2021-08-03T14:15:03.932972",
     "exception": false,
     "start_time": "2021-08-03T14:15:03.771933",
     "status": "completed"
    },
    "tags": []
   },
   "outputs": [
    {
     "data": {
      "text/html": [
       "<div>\n",
       "<style scoped>\n",
       "    .dataframe tbody tr th:only-of-type {\n",
       "        vertical-align: middle;\n",
       "    }\n",
       "\n",
       "    .dataframe tbody tr th {\n",
       "        vertical-align: top;\n",
       "    }\n",
       "\n",
       "    .dataframe thead th {\n",
       "        text-align: right;\n",
       "    }\n",
       "</style>\n",
       "<table border=\"1\" class=\"dataframe\">\n",
       "  <thead>\n",
       "    <tr style=\"text-align: right;\">\n",
       "      <th></th>\n",
       "      <th>item_name</th>\n",
       "      <th>item_id</th>\n",
       "      <th>item_category_id</th>\n",
       "    </tr>\n",
       "  </thead>\n",
       "  <tbody>\n",
       "    <tr>\n",
       "      <th>0</th>\n",
       "      <td>! ВО ВЛАСТИ НАВАЖДЕНИЯ (ПЛАСТ.)         D</td>\n",
       "      <td>0</td>\n",
       "      <td>40</td>\n",
       "    </tr>\n",
       "    <tr>\n",
       "      <th>1</th>\n",
       "      <td>!ABBYY FineReader 12 Professional Edition Full...</td>\n",
       "      <td>1</td>\n",
       "      <td>76</td>\n",
       "    </tr>\n",
       "    <tr>\n",
       "      <th>2</th>\n",
       "      <td>***В ЛУЧАХ СЛАВЫ   (UNV)                    D</td>\n",
       "      <td>2</td>\n",
       "      <td>40</td>\n",
       "    </tr>\n",
       "    <tr>\n",
       "      <th>3</th>\n",
       "      <td>***ГОЛУБАЯ ВОЛНА  (Univ)                      D</td>\n",
       "      <td>3</td>\n",
       "      <td>40</td>\n",
       "    </tr>\n",
       "    <tr>\n",
       "      <th>4</th>\n",
       "      <td>***КОРОБКА (СТЕКЛО)                       D</td>\n",
       "      <td>4</td>\n",
       "      <td>40</td>\n",
       "    </tr>\n",
       "  </tbody>\n",
       "</table>\n",
       "</div>"
      ],
      "text/plain": [
       "                                           item_name  item_id  \\\n",
       "0          ! ВО ВЛАСТИ НАВАЖДЕНИЯ (ПЛАСТ.)         D        0   \n",
       "1  !ABBYY FineReader 12 Professional Edition Full...        1   \n",
       "2      ***В ЛУЧАХ СЛАВЫ   (UNV)                    D        2   \n",
       "3    ***ГОЛУБАЯ ВОЛНА  (Univ)                      D        3   \n",
       "4        ***КОРОБКА (СТЕКЛО)                       D        4   \n",
       "\n",
       "   item_category_id  \n",
       "0                40  \n",
       "1                76  \n",
       "2                40  \n",
       "3                40  \n",
       "4                40  "
      ]
     },
     "execution_count": 2,
     "metadata": {},
     "output_type": "execute_result"
    }
   ],
   "source": [
    "items = pd.read_csv('../input/competitive-data-science-predict-future-sales/items.csv')\n",
    "items.head()"
   ]
  },
  {
   "cell_type": "code",
   "execution_count": 3,
   "id": "5f8ea3d5",
   "metadata": {
    "execution": {
     "iopub.execute_input": "2021-08-03T14:15:04.061290Z",
     "iopub.status.busy": "2021-08-03T14:15:04.057375Z",
     "iopub.status.idle": "2021-08-03T14:15:04.075039Z",
     "shell.execute_reply": "2021-08-03T14:15:04.075630Z"
    },
    "papermill": {
     "duration": 0.083958,
     "end_time": "2021-08-03T14:15:04.075808",
     "exception": false,
     "start_time": "2021-08-03T14:15:03.991850",
     "status": "completed"
    },
    "tags": []
   },
   "outputs": [
    {
     "name": "stdout",
     "output_type": "stream",
     "text": [
      "<class 'pandas.core.frame.DataFrame'>\n",
      "RangeIndex: 22170 entries, 0 to 22169\n",
      "Data columns (total 3 columns):\n",
      " #   Column            Non-Null Count  Dtype \n",
      "---  ------            --------------  ----- \n",
      " 0   item_name         22170 non-null  object\n",
      " 1   item_id           22170 non-null  int64 \n",
      " 2   item_category_id  22170 non-null  int64 \n",
      "dtypes: int64(2), object(1)\n",
      "memory usage: 519.7+ KB\n"
     ]
    }
   ],
   "source": [
    "items.info()"
   ]
  },
  {
   "cell_type": "code",
   "execution_count": 4,
   "id": "0ef88431",
   "metadata": {
    "execution": {
     "iopub.execute_input": "2021-08-03T14:15:04.200503Z",
     "iopub.status.busy": "2021-08-03T14:15:04.199732Z",
     "iopub.status.idle": "2021-08-03T14:15:04.218732Z",
     "shell.execute_reply": "2021-08-03T14:15:04.218194Z"
    },
    "papermill": {
     "duration": 0.087154,
     "end_time": "2021-08-03T14:15:04.218879",
     "exception": false,
     "start_time": "2021-08-03T14:15:04.131725",
     "status": "completed"
    },
    "tags": []
   },
   "outputs": [
    {
     "data": {
      "text/html": [
       "<div>\n",
       "<style scoped>\n",
       "    .dataframe tbody tr th:only-of-type {\n",
       "        vertical-align: middle;\n",
       "    }\n",
       "\n",
       "    .dataframe tbody tr th {\n",
       "        vertical-align: top;\n",
       "    }\n",
       "\n",
       "    .dataframe thead th {\n",
       "        text-align: right;\n",
       "    }\n",
       "</style>\n",
       "<table border=\"1\" class=\"dataframe\">\n",
       "  <thead>\n",
       "    <tr style=\"text-align: right;\">\n",
       "      <th></th>\n",
       "      <th>item_id</th>\n",
       "      <th>item_category_id</th>\n",
       "    </tr>\n",
       "  </thead>\n",
       "  <tbody>\n",
       "    <tr>\n",
       "      <th>count</th>\n",
       "      <td>22170.00000</td>\n",
       "      <td>22170.000000</td>\n",
       "    </tr>\n",
       "    <tr>\n",
       "      <th>mean</th>\n",
       "      <td>11084.50000</td>\n",
       "      <td>46.290753</td>\n",
       "    </tr>\n",
       "    <tr>\n",
       "      <th>std</th>\n",
       "      <td>6400.07207</td>\n",
       "      <td>15.941486</td>\n",
       "    </tr>\n",
       "    <tr>\n",
       "      <th>min</th>\n",
       "      <td>0.00000</td>\n",
       "      <td>0.000000</td>\n",
       "    </tr>\n",
       "    <tr>\n",
       "      <th>25%</th>\n",
       "      <td>5542.25000</td>\n",
       "      <td>37.000000</td>\n",
       "    </tr>\n",
       "    <tr>\n",
       "      <th>50%</th>\n",
       "      <td>11084.50000</td>\n",
       "      <td>40.000000</td>\n",
       "    </tr>\n",
       "    <tr>\n",
       "      <th>75%</th>\n",
       "      <td>16626.75000</td>\n",
       "      <td>58.000000</td>\n",
       "    </tr>\n",
       "    <tr>\n",
       "      <th>max</th>\n",
       "      <td>22169.00000</td>\n",
       "      <td>83.000000</td>\n",
       "    </tr>\n",
       "  </tbody>\n",
       "</table>\n",
       "</div>"
      ],
      "text/plain": [
       "           item_id  item_category_id\n",
       "count  22170.00000      22170.000000\n",
       "mean   11084.50000         46.290753\n",
       "std     6400.07207         15.941486\n",
       "min        0.00000          0.000000\n",
       "25%     5542.25000         37.000000\n",
       "50%    11084.50000         40.000000\n",
       "75%    16626.75000         58.000000\n",
       "max    22169.00000         83.000000"
      ]
     },
     "execution_count": 4,
     "metadata": {},
     "output_type": "execute_result"
    }
   ],
   "source": [
    "items.describe()"
   ]
  },
  {
   "cell_type": "code",
   "execution_count": 5,
   "id": "155abf49",
   "metadata": {
    "execution": {
     "iopub.execute_input": "2021-08-03T14:15:04.354318Z",
     "iopub.status.busy": "2021-08-03T14:15:04.353433Z",
     "iopub.status.idle": "2021-08-03T14:15:04.372829Z",
     "shell.execute_reply": "2021-08-03T14:15:04.373521Z"
    },
    "papermill": {
     "duration": 0.086893,
     "end_time": "2021-08-03T14:15:04.373727",
     "exception": false,
     "start_time": "2021-08-03T14:15:04.286834",
     "status": "completed"
    },
    "tags": []
   },
   "outputs": [
    {
     "name": "stdout",
     "output_type": "stream",
     "text": [
      "Unique values of product names: ['! ВО ВЛАСТИ НАВАЖДЕНИЯ (ПЛАСТ.)         D'\n",
      " '!ABBYY FineReader 12 Professional Edition Full [PC, Цифровая версия]'\n",
      " '***В ЛУЧАХ СЛАВЫ   (UNV)                    D' ...\n",
      " 'Язык запросов 1С:Предприятия 8 (+CD). Хрусталева Е.Ю.'\n",
      " 'Яйцо для Little Inu' 'Яйцо дракона (Игра престолов)']\n",
      "\n",
      "Number of unique values of products: 22170\n"
     ]
    }
   ],
   "source": [
    "print('Unique values of product names: {}'.format(items.item_name.unique()))\n",
    "print()\n",
    "print('Number of unique values of products: {}'.format(items.item_name.nunique()))"
   ]
  },
  {
   "cell_type": "code",
   "execution_count": 6,
   "id": "0448ae75",
   "metadata": {
    "execution": {
     "iopub.execute_input": "2021-08-03T14:15:04.501630Z",
     "iopub.status.busy": "2021-08-03T14:15:04.500969Z",
     "iopub.status.idle": "2021-08-03T14:15:05.287202Z",
     "shell.execute_reply": "2021-08-03T14:15:05.286696Z"
    },
    "papermill": {
     "duration": 0.855255,
     "end_time": "2021-08-03T14:15:05.287351",
     "exception": false,
     "start_time": "2021-08-03T14:15:04.432096",
     "status": "completed"
    },
    "tags": []
   },
   "outputs": [
    {
     "name": "stderr",
     "output_type": "stream",
     "text": [
      "/opt/conda/lib/python3.7/site-packages/seaborn/distributions.py:2557: FutureWarning: `distplot` is a deprecated function and will be removed in a future version. Please adapt your code to use either `displot` (a figure-level function with similar flexibility) or `histplot` (an axes-level function for histograms).\n",
      "  warnings.warn(msg, FutureWarning)\n"
     ]
    },
    {
     "data": {
      "image/png": "[encoded data removed]",
      "text/plain": [
       "<Figure size 864x576 with 1 Axes>"
      ]
     },
     "metadata": {
      "needs_background": "light"
     },
     "output_type": "display_data"
    }
   ],
   "source": [
    "def simple_hist(data, x, bins, title, xlabel, xmin, xmax):\n",
    "    plt.figure(figsize = (12, 8))\n",
    "    sns.set()\n",
    "    sns.distplot(data[x], color = 'lightcoral')\n",
    "    plt.title(title)\n",
    "    plt.xlabel(xlabel)\n",
    "    plt.xlim(xmin, xmax)\n",
    "    plt.show()\n",
    "\n",
    "simple_hist(items, 'item_category_id', 10, \n",
    "            'Distribution of item categories in the item dataframe', 'item_categories_id', -2, 85)"
   ]
  },
  {
   "cell_type": "markdown",
   "id": "e4258946",
   "metadata": {
    "papermill": {
     "duration": 0.060682,
     "end_time": "2021-08-03T14:15:05.408525",
     "exception": false,
     "start_time": "2021-08-03T14:15:05.347843",
     "status": "completed"
    },
    "tags": []
   },
   "source": [
    "**Dataset item_categories**"
   ]
  },
  {
   "cell_type": "code",
   "execution_count": 7,
   "id": "4caed653",
   "metadata": {
    "execution": {
     "iopub.execute_input": "2021-08-03T14:15:05.532861Z",
     "iopub.status.busy": "2021-08-03T14:15:05.532052Z",
     "iopub.status.idle": "2021-08-03T14:15:05.548598Z",
     "shell.execute_reply": "2021-08-03T14:15:05.549184Z"
    },
    "papermill": {
     "duration": 0.07931,
     "end_time": "2021-08-03T14:15:05.549340",
     "exception": false,
     "start_time": "2021-08-03T14:15:05.470030",
     "status": "completed"
    },
    "tags": []
   },
   "outputs": [
    {
     "data": {
      "text/html": [
       "<div>\n",
       "<style scoped>\n",
       "    .dataframe tbody tr th:only-of-type {\n",
       "        vertical-align: middle;\n",
       "    }\n",
       "\n",
       "    .dataframe tbody tr th {\n",
       "        vertical-align: top;\n",
       "    }\n",
       "\n",
       "    .dataframe thead th {\n",
       "        text-align: right;\n",
       "    }\n",
       "</style>\n",
       "<table border=\"1\" class=\"dataframe\">\n",
       "  <thead>\n",
       "    <tr style=\"text-align: right;\">\n",
       "      <th></th>\n",
       "      <th>item_category_name</th>\n",
       "      <th>item_category_id</th>\n",
       "    </tr>\n",
       "  </thead>\n",
       "  <tbody>\n",
       "    <tr>\n",
       "      <th>0</th>\n",
       "      <td>PC - Гарнитуры/Наушники</td>\n",
       "      <td>0</td>\n",
       "    </tr>\n",
       "    <tr>\n",
       "      <th>1</th>\n",
       "      <td>Аксессуары - PS2</td>\n",
       "      <td>1</td>\n",
       "    </tr>\n",
       "    <tr>\n",
       "      <th>2</th>\n",
       "      <td>Аксессуары - PS3</td>\n",
       "      <td>2</td>\n",
       "    </tr>\n",
       "    <tr>\n",
       "      <th>3</th>\n",
       "      <td>Аксессуары - PS4</td>\n",
       "      <td>3</td>\n",
       "    </tr>\n",
       "    <tr>\n",
       "      <th>4</th>\n",
       "      <td>Аксессуары - PSP</td>\n",
       "      <td>4</td>\n",
       "    </tr>\n",
       "  </tbody>\n",
       "</table>\n",
       "</div>"
      ],
      "text/plain": [
       "        item_category_name  item_category_id\n",
       "0  PC - Гарнитуры/Наушники                 0\n",
       "1         Аксессуары - PS2                 1\n",
       "2         Аксессуары - PS3                 2\n",
       "3         Аксессуары - PS4                 3\n",
       "4         Аксессуары - PSP                 4"
      ]
     },
     "execution_count": 7,
     "metadata": {},
     "output_type": "execute_result"
    }
   ],
   "source": [
    "item_categories = pd.read_csv('../input/competitive-data-science-predict-future-sales/item_categories.csv')\n",
    "item_categories.head()"
   ]
  },
  {
   "cell_type": "code",
   "execution_count": 8,
   "id": "cdce795e",
   "metadata": {
    "execution": {
     "iopub.execute_input": "2021-08-03T14:15:05.688111Z",
     "iopub.status.busy": "2021-08-03T14:15:05.687277Z",
     "iopub.status.idle": "2021-08-03T14:15:05.691950Z",
     "shell.execute_reply": "2021-08-03T14:15:05.692665Z"
    },
    "papermill": {
     "duration": 0.080011,
     "end_time": "2021-08-03T14:15:05.692880",
     "exception": false,
     "start_time": "2021-08-03T14:15:05.612869",
     "status": "completed"
    },
    "tags": []
   },
   "outputs": [
    {
     "name": "stdout",
     "output_type": "stream",
     "text": [
      "<class 'pandas.core.frame.DataFrame'>\n",
      "RangeIndex: 84 entries, 0 to 83\n",
      "Data columns (total 2 columns):\n",
      " #   Column              Non-Null Count  Dtype \n",
      "---  ------              --------------  ----- \n",
      " 0   item_category_name  84 non-null     object\n",
      " 1   item_category_id    84 non-null     int64 \n",
      "dtypes: int64(1), object(1)\n",
      "memory usage: 1.4+ KB\n"
     ]
    }
   ],
   "source": [
    "item_categories.info()"
   ]
  },
  {
   "cell_type": "code",
   "execution_count": 9,
   "id": "81f22407",
   "metadata": {
    "execution": {
     "iopub.execute_input": "2021-08-03T14:15:05.834012Z",
     "iopub.status.busy": "2021-08-03T14:15:05.833150Z",
     "iopub.status.idle": "2021-08-03T14:15:05.838201Z",
     "shell.execute_reply": "2021-08-03T14:15:05.838685Z"
    },
    "papermill": {
     "duration": 0.084105,
     "end_time": "2021-08-03T14:15:05.838848",
     "exception": false,
     "start_time": "2021-08-03T14:15:05.754743",
     "status": "completed"
    },
    "tags": []
   },
   "outputs": [
    {
     "data": {
      "text/html": [
       "<div>\n",
       "<style scoped>\n",
       "    .dataframe tbody tr th:only-of-type {\n",
       "        vertical-align: middle;\n",
       "    }\n",
       "\n",
       "    .dataframe tbody tr th {\n",
       "        vertical-align: top;\n",
       "    }\n",
       "\n",
       "    .dataframe thead th {\n",
       "        text-align: right;\n",
       "    }\n",
       "</style>\n",
       "<table border=\"1\" class=\"dataframe\">\n",
       "  <thead>\n",
       "    <tr style=\"text-align: right;\">\n",
       "      <th></th>\n",
       "      <th>item_category_id</th>\n",
       "    </tr>\n",
       "  </thead>\n",
       "  <tbody>\n",
       "    <tr>\n",
       "      <th>count</th>\n",
       "      <td>84.000000</td>\n",
       "    </tr>\n",
       "    <tr>\n",
       "      <th>mean</th>\n",
       "      <td>41.500000</td>\n",
       "    </tr>\n",
       "    <tr>\n",
       "      <th>std</th>\n",
       "      <td>24.392622</td>\n",
       "    </tr>\n",
       "    <tr>\n",
       "      <th>min</th>\n",
       "      <td>0.000000</td>\n",
       "    </tr>\n",
       "    <tr>\n",
       "      <th>25%</th>\n",
       "      <td>20.750000</td>\n",
       "    </tr>\n",
       "    <tr>\n",
       "      <th>50%</th>\n",
       "      <td>41.500000</td>\n",
       "    </tr>\n",
       "    <tr>\n",
       "      <th>75%</th>\n",
       "      <td>62.250000</td>\n",
       "    </tr>\n",
       "    <tr>\n",
       "      <th>max</th>\n",
       "      <td>83.000000</td>\n",
       "    </tr>\n",
       "  </tbody>\n",
       "</table>\n",
       "</div>"
      ],
      "text/plain": [
       "       item_category_id\n",
       "count         84.000000\n",
       "mean          41.500000\n",
       "std           24.392622\n",
       "min            0.000000\n",
       "25%           20.750000\n",
       "50%           41.500000\n",
       "75%           62.250000\n",
       "max           83.000000"
      ]
     },
     "execution_count": 9,
     "metadata": {},
     "output_type": "execute_result"
    }
   ],
   "source": [
    "item_categories.describe()"
   ]
  },
  {
   "cell_type": "code",
   "execution_count": 10,
   "id": "fd86e832",
   "metadata": {
    "execution": {
     "iopub.execute_input": "2021-08-03T14:15:05.971750Z",
     "iopub.status.busy": "2021-08-03T14:15:05.971010Z",
     "iopub.status.idle": "2021-08-03T14:15:05.975477Z",
     "shell.execute_reply": "2021-08-03T14:15:05.975027Z"
    },
    "papermill": {
     "duration": 0.071595,
     "end_time": "2021-08-03T14:15:05.975614",
     "exception": false,
     "start_time": "2021-08-03T14:15:05.904019",
     "status": "completed"
    },
    "tags": []
   },
   "outputs": [
    {
     "name": "stdout",
     "output_type": "stream",
     "text": [
      "Unique values of product identifiers: [ 0  1  2  3  4  5  6  7  8  9 10 11 12 13 14 15 16 17 18 19 20 21 22 23\n",
      " 24 25 26 27 28 29 30 31 32 33 34 35 36 37 38 39 40 41 42 43 44 45 46 47\n",
      " 48 49 50 51 52 53 54 55 56 57 58 59 60 61 62 63 64 65 66 67 68 69 70 71\n",
      " 72 73 74 75 76 77 78 79 80 81 82 83]\n",
      "\n",
      "Number of unique values of product identifiers: 84\n"
     ]
    }
   ],
   "source": [
    "print('Unique values of product identifiers: {}'.format(item_categories.item_category_id.unique()))\n",
    "print()\n",
    "print('Number of unique values of product identifiers: {}'.format(item_categories.item_category_id.nunique()))"
   ]
  },
  {
   "cell_type": "markdown",
   "id": "300e41a2",
   "metadata": {
    "papermill": {
     "duration": 0.063583,
     "end_time": "2021-08-03T14:15:06.104161",
     "exception": false,
     "start_time": "2021-08-03T14:15:06.040578",
     "status": "completed"
    },
    "tags": []
   },
   "source": [
    "**Dataset shops**"
   ]
  },
  {
   "cell_type": "code",
   "execution_count": 11,
   "id": "4d366a96",
   "metadata": {
    "execution": {
     "iopub.execute_input": "2021-08-03T14:15:06.235480Z",
     "iopub.status.busy": "2021-08-03T14:15:06.234941Z",
     "iopub.status.idle": "2021-08-03T14:15:06.251884Z",
     "shell.execute_reply": "2021-08-03T14:15:06.251355Z"
    },
    "papermill": {
     "duration": 0.085347,
     "end_time": "2021-08-03T14:15:06.252000",
     "exception": false,
     "start_time": "2021-08-03T14:15:06.166653",
     "status": "completed"
    },
    "tags": []
   },
   "outputs": [
    {
     "data": {
      "text/html": [
       "<div>\n",
       "<style scoped>\n",
       "    .dataframe tbody tr th:only-of-type {\n",
       "        vertical-align: middle;\n",
       "    }\n",
       "\n",
       "    .dataframe tbody tr th {\n",
       "        vertical-align: top;\n",
       "    }\n",
       "\n",
       "    .dataframe thead th {\n",
       "        text-align: right;\n",
       "    }\n",
       "</style>\n",
       "<table border=\"1\" class=\"dataframe\">\n",
       "  <thead>\n",
       "    <tr style=\"text-align: right;\">\n",
       "      <th></th>\n",
       "      <th>shop_name</th>\n",
       "      <th>shop_id</th>\n",
       "    </tr>\n",
       "  </thead>\n",
       "  <tbody>\n",
       "    <tr>\n",
       "      <th>0</th>\n",
       "      <td>!Якутск Орджоникидзе, 56 фран</td>\n",
       "      <td>0</td>\n",
       "    </tr>\n",
       "    <tr>\n",
       "      <th>1</th>\n",
       "      <td>!Якутск ТЦ \"Центральный\" фран</td>\n",
       "      <td>1</td>\n",
       "    </tr>\n",
       "    <tr>\n",
       "      <th>2</th>\n",
       "      <td>Адыгея ТЦ \"Мега\"</td>\n",
       "      <td>2</td>\n",
       "    </tr>\n",
       "    <tr>\n",
       "      <th>3</th>\n",
       "      <td>Балашиха ТРК \"Октябрь-Киномир\"</td>\n",
       "      <td>3</td>\n",
       "    </tr>\n",
       "    <tr>\n",
       "      <th>4</th>\n",
       "      <td>Волжский ТЦ \"Волга Молл\"</td>\n",
       "      <td>4</td>\n",
       "    </tr>\n",
       "  </tbody>\n",
       "</table>\n",
       "</div>"
      ],
      "text/plain": [
       "                        shop_name  shop_id\n",
       "0   !Якутск Орджоникидзе, 56 фран        0\n",
       "1   !Якутск ТЦ \"Центральный\" фран        1\n",
       "2                Адыгея ТЦ \"Мега\"        2\n",
       "3  Балашиха ТРК \"Октябрь-Киномир\"        3\n",
       "4        Волжский ТЦ \"Волга Молл\"        4"
      ]
     },
     "execution_count": 11,
     "metadata": {},
     "output_type": "execute_result"
    }
   ],
   "source": [
    "shops = pd.read_csv('../input/competitive-data-science-predict-future-sales/shops.csv')\n",
    "shops.head()"
   ]
  },
  {
   "cell_type": "code",
   "execution_count": 12,
   "id": "6ec285f5",
   "metadata": {
    "execution": {
     "iopub.execute_input": "2021-08-03T14:15:06.388837Z",
     "iopub.status.busy": "2021-08-03T14:15:06.388129Z",
     "iopub.status.idle": "2021-08-03T14:15:06.392223Z",
     "shell.execute_reply": "2021-08-03T14:15:06.392793Z"
    },
    "papermill": {
     "duration": 0.078069,
     "end_time": "2021-08-03T14:15:06.392956",
     "exception": false,
     "start_time": "2021-08-03T14:15:06.314887",
     "status": "completed"
    },
    "tags": []
   },
   "outputs": [
    {
     "name": "stdout",
     "output_type": "stream",
     "text": [
      "<class 'pandas.core.frame.DataFrame'>\n",
      "RangeIndex: 60 entries, 0 to 59\n",
      "Data columns (total 2 columns):\n",
      " #   Column     Non-Null Count  Dtype \n",
      "---  ------     --------------  ----- \n",
      " 0   shop_name  60 non-null     object\n",
      " 1   shop_id    60 non-null     int64 \n",
      "dtypes: int64(1), object(1)\n",
      "memory usage: 1.1+ KB\n"
     ]
    }
   ],
   "source": [
    "shops.info()"
   ]
  },
  {
   "cell_type": "code",
   "execution_count": 13,
   "id": "fe2751d7",
   "metadata": {
    "execution": {
     "iopub.execute_input": "2021-08-03T14:15:06.543334Z",
     "iopub.status.busy": "2021-08-03T14:15:06.542474Z",
     "iopub.status.idle": "2021-08-03T14:15:06.546657Z",
     "shell.execute_reply": "2021-08-03T14:15:06.547161Z"
    },
    "papermill": {
     "duration": 0.082442,
     "end_time": "2021-08-03T14:15:06.547319",
     "exception": false,
     "start_time": "2021-08-03T14:15:06.464877",
     "status": "completed"
    },
    "tags": []
   },
   "outputs": [
    {
     "data": {
      "text/html": [
       "<div>\n",
       "<style scoped>\n",
       "    .dataframe tbody tr th:only-of-type {\n",
       "        vertical-align: middle;\n",
       "    }\n",
       "\n",
       "    .dataframe tbody tr th {\n",
       "        vertical-align: top;\n",
       "    }\n",
       "\n",
       "    .dataframe thead th {\n",
       "        text-align: right;\n",
       "    }\n",
       "</style>\n",
       "<table border=\"1\" class=\"dataframe\">\n",
       "  <thead>\n",
       "    <tr style=\"text-align: right;\">\n",
       "      <th></th>\n",
       "      <th>shop_id</th>\n",
       "    </tr>\n",
       "  </thead>\n",
       "  <tbody>\n",
       "    <tr>\n",
       "      <th>count</th>\n",
       "      <td>60.000000</td>\n",
       "    </tr>\n",
       "    <tr>\n",
       "      <th>mean</th>\n",
       "      <td>29.500000</td>\n",
       "    </tr>\n",
       "    <tr>\n",
       "      <th>std</th>\n",
       "      <td>17.464249</td>\n",
       "    </tr>\n",
       "    <tr>\n",
       "      <th>min</th>\n",
       "      <td>0.000000</td>\n",
       "    </tr>\n",
       "    <tr>\n",
       "      <th>25%</th>\n",
       "      <td>14.750000</td>\n",
       "    </tr>\n",
       "    <tr>\n",
       "      <th>50%</th>\n",
       "      <td>29.500000</td>\n",
       "    </tr>\n",
       "    <tr>\n",
       "      <th>75%</th>\n",
       "      <td>44.250000</td>\n",
       "    </tr>\n",
       "    <tr>\n",
       "      <th>max</th>\n",
       "      <td>59.000000</td>\n",
       "    </tr>\n",
       "  </tbody>\n",
       "</table>\n",
       "</div>"
      ],
      "text/plain": [
       "         shop_id\n",
       "count  60.000000\n",
       "mean   29.500000\n",
       "std    17.464249\n",
       "min     0.000000\n",
       "25%    14.750000\n",
       "50%    29.500000\n",
       "75%    44.250000\n",
       "max    59.000000"
      ]
     },
     "execution_count": 13,
     "metadata": {},
     "output_type": "execute_result"
    }
   ],
   "source": [
    "shops.describe()"
   ]
  },
  {
   "cell_type": "code",
   "execution_count": 14,
   "id": "9aa68ad5",
   "metadata": {
    "execution": {
     "iopub.execute_input": "2021-08-03T14:15:06.684173Z",
     "iopub.status.busy": "2021-08-03T14:15:06.683500Z",
     "iopub.status.idle": "2021-08-03T14:15:06.687675Z",
     "shell.execute_reply": "2021-08-03T14:15:06.688248Z"
    },
    "papermill": {
     "duration": 0.076008,
     "end_time": "2021-08-03T14:15:06.688435",
     "exception": false,
     "start_time": "2021-08-03T14:15:06.612427",
     "status": "completed"
    },
    "tags": []
   },
   "outputs": [
    {
     "name": "stdout",
     "output_type": "stream",
     "text": [
      "Unique meanings of store names: ['!Якутск Орджоникидзе, 56 фран' '!Якутск ТЦ \"Центральный\" фран'\n",
      " 'Адыгея ТЦ \"Мега\"' 'Балашиха ТРК \"Октябрь-Киномир\"'\n",
      " 'Волжский ТЦ \"Волга Молл\"' 'Вологда ТРЦ \"Мармелад\"'\n",
      " 'Воронеж (Плехановская, 13)' 'Воронеж ТРЦ \"Максимир\"'\n",
      " 'Воронеж ТРЦ Сити-Парк \"Град\"' 'Выездная Торговля'\n",
      " 'Жуковский ул. Чкалова 39м?' 'Жуковский ул. Чкалова 39м²'\n",
      " 'Интернет-магазин ЧС' 'Казань ТЦ \"Бехетле\"' 'Казань ТЦ \"ПаркХаус\" II'\n",
      " 'Калуга ТРЦ \"XXI век\"' 'Коломна ТЦ \"Рио\"' 'Красноярск ТЦ \"Взлетка Плаза\"'\n",
      " 'Красноярск ТЦ \"Июнь\"' 'Курск ТЦ \"Пушкинский\"' 'Москва \"Распродажа\"'\n",
      " 'Москва МТРЦ \"Афи Молл\"' 'Москва Магазин С21'\n",
      " 'Москва ТК \"Буденовский\" (пав.А2)' 'Москва ТК \"Буденовский\" (пав.К7)'\n",
      " 'Москва ТРК \"Атриум\"' 'Москва ТЦ \"Ареал\" (Беляево)'\n",
      " 'Москва ТЦ \"МЕГА Белая Дача II\"' 'Москва ТЦ \"МЕГА Теплый Стан\" II'\n",
      " 'Москва ТЦ \"Новый век\" (Новокосино)' 'Москва ТЦ \"Перловский\"'\n",
      " 'Москва ТЦ \"Семеновский\"' 'Москва ТЦ \"Серебряный Дом\"'\n",
      " 'Мытищи ТРК \"XL-3\"' 'Н.Новгород ТРЦ \"РИО\"' 'Н.Новгород ТРЦ \"Фантастика\"'\n",
      " 'Новосибирск ТРЦ \"Галерея Новосибирск\"' 'Новосибирск ТЦ \"Мега\"'\n",
      " 'Омск ТЦ \"Мега\"' 'РостовНаДону ТРК \"Мегацентр Горизонт\"'\n",
      " 'РостовНаДону ТРК \"Мегацентр Горизонт\" Островной'\n",
      " 'РостовНаДону ТЦ \"Мега\"' 'СПб ТК \"Невский Центр\"' 'СПб ТК \"Сенная\"'\n",
      " 'Самара ТЦ \"Мелодия\"' 'Самара ТЦ \"ПаркХаус\"' 'Сергиев Посад ТЦ \"7Я\"'\n",
      " 'Сургут ТРЦ \"Сити Молл\"' 'Томск ТРЦ \"Изумрудный Город\"'\n",
      " 'Тюмень ТРЦ \"Кристалл\"' 'Тюмень ТЦ \"Гудвин\"' 'Тюмень ТЦ \"Зеленый Берег\"'\n",
      " 'Уфа ТК \"Центральный\"' 'Уфа ТЦ \"Семья\" 2' 'Химки ТЦ \"Мега\"'\n",
      " 'Цифровой склад 1С-Онлайн' 'Чехов ТРЦ \"Карнавал\"'\n",
      " 'Якутск Орджоникидзе, 56' 'Якутск ТЦ \"Центральный\"'\n",
      " 'Ярославль ТЦ \"Альтаир\"']\n",
      "\n",
      "Number of unique store values: 60\n"
     ]
    }
   ],
   "source": [
    "print('Unique meanings of store names: {}'.format(shops.shop_name.unique()))\n",
    "print()\n",
    "print('Number of unique store values: {}'.format(shops.shop_name.nunique()))"
   ]
  },
  {
   "cell_type": "markdown",
   "id": "98219094",
   "metadata": {
    "papermill": {
     "duration": 0.062353,
     "end_time": "2021-08-03T14:15:06.816182",
     "exception": false,
     "start_time": "2021-08-03T14:15:06.753829",
     "status": "completed"
    },
    "tags": []
   },
   "source": [
    "**Dataset train**"
   ]
  },
  {
   "cell_type": "code",
   "execution_count": 15,
   "id": "4ce0943c",
   "metadata": {
    "execution": {
     "iopub.execute_input": "2021-08-03T14:15:06.950297Z",
     "iopub.status.busy": "2021-08-03T14:15:06.949696Z",
     "iopub.status.idle": "2021-08-03T14:15:09.421088Z",
     "shell.execute_reply": "2021-08-03T14:15:09.420158Z"
    },
    "papermill": {
     "duration": 2.537128,
     "end_time": "2021-08-03T14:15:09.421254",
     "exception": false,
     "start_time": "2021-08-03T14:15:06.884126",
     "status": "completed"
    },
    "tags": []
   },
   "outputs": [
    {
     "data": {
      "text/html": [
       "<div>\n",
       "<style scoped>\n",
       "    .dataframe tbody tr th:only-of-type {\n",
       "        vertical-align: middle;\n",
       "    }\n",
       "\n",
       "    .dataframe tbody tr th {\n",
       "        vertical-align: top;\n",
       "    }\n",
       "\n",
       "    .dataframe thead th {\n",
       "        text-align: right;\n",
       "    }\n",
       "</style>\n",
       "<table border=\"1\" class=\"dataframe\">\n",
       "  <thead>\n",
       "    <tr style=\"text-align: right;\">\n",
       "      <th></th>\n",
       "      <th>date</th>\n",
       "      <th>date_block_num</th>\n",
       "      <th>shop_id</th>\n",
       "      <th>item_id</th>\n",
       "      <th>item_price</th>\n",
       "      <th>item_cnt_day</th>\n",
       "    </tr>\n",
       "  </thead>\n",
       "  <tbody>\n",
       "    <tr>\n",
       "      <th>0</th>\n",
       "      <td>02.01.2013</td>\n",
       "      <td>0</td>\n",
       "      <td>59</td>\n",
       "      <td>22154</td>\n",
       "      <td>999.00</td>\n",
       "      <td>1.0</td>\n",
       "    </tr>\n",
       "    <tr>\n",
       "      <th>1</th>\n",
       "      <td>03.01.2013</td>\n",
       "      <td>0</td>\n",
       "      <td>25</td>\n",
       "      <td>2552</td>\n",
       "      <td>899.00</td>\n",
       "      <td>1.0</td>\n",
       "    </tr>\n",
       "    <tr>\n",
       "      <th>2</th>\n",
       "      <td>05.01.2013</td>\n",
       "      <td>0</td>\n",
       "      <td>25</td>\n",
       "      <td>2552</td>\n",
       "      <td>899.00</td>\n",
       "      <td>-1.0</td>\n",
       "    </tr>\n",
       "    <tr>\n",
       "      <th>3</th>\n",
       "      <td>06.01.2013</td>\n",
       "      <td>0</td>\n",
       "      <td>25</td>\n",
       "      <td>2554</td>\n",
       "      <td>1709.05</td>\n",
       "      <td>1.0</td>\n",
       "    </tr>\n",
       "    <tr>\n",
       "      <th>4</th>\n",
       "      <td>15.01.2013</td>\n",
       "      <td>0</td>\n",
       "      <td>25</td>\n",
       "      <td>2555</td>\n",
       "      <td>1099.00</td>\n",
       "      <td>1.0</td>\n",
       "    </tr>\n",
       "  </tbody>\n",
       "</table>\n",
       "</div>"
      ],
      "text/plain": [
       "         date  date_block_num  shop_id  item_id  item_price  item_cnt_day\n",
       "0  02.01.2013               0       59    22154      999.00           1.0\n",
       "1  03.01.2013               0       25     2552      899.00           1.0\n",
       "2  05.01.2013               0       25     2552      899.00          -1.0\n",
       "3  06.01.2013               0       25     2554     1709.05           1.0\n",
       "4  15.01.2013               0       25     2555     1099.00           1.0"
      ]
     },
     "execution_count": 15,
     "metadata": {},
     "output_type": "execute_result"
    }
   ],
   "source": [
    "train = pd.read_csv('../input/competitive-data-science-predict-future-sales/sales_train.csv')\n",
    "train.head()"
   ]
  },
  {
   "cell_type": "code",
   "execution_count": 16,
   "id": "1cc1aa8f",
   "metadata": {
    "execution": {
     "iopub.execute_input": "2021-08-03T14:15:09.571252Z",
     "iopub.status.busy": "2021-08-03T14:15:09.570587Z",
     "iopub.status.idle": "2021-08-03T14:15:09.575341Z",
     "shell.execute_reply": "2021-08-03T14:15:09.576166Z"
    },
    "papermill": {
     "duration": 0.082191,
     "end_time": "2021-08-03T14:15:09.576298",
     "exception": false,
     "start_time": "2021-08-03T14:15:09.494107",
     "status": "completed"
    },
    "tags": []
   },
   "outputs": [
    {
     "name": "stdout",
     "output_type": "stream",
     "text": [
      "<class 'pandas.core.frame.DataFrame'>\n",
      "RangeIndex: 2935849 entries, 0 to 2935848\n",
      "Data columns (total 6 columns):\n",
      " #   Column          Dtype  \n",
      "---  ------          -----  \n",
      " 0   date            object \n",
      " 1   date_block_num  int64  \n",
      " 2   shop_id         int64  \n",
      " 3   item_id         int64  \n",
      " 4   item_price      float64\n",
      " 5   item_cnt_day    float64\n",
      "dtypes: float64(2), int64(3), object(1)\n",
      "memory usage: 134.4+ MB\n"
     ]
    }
   ],
   "source": [
    "train.info()"
   ]
  },
  {
   "cell_type": "code",
   "execution_count": 17,
   "id": "33bf4613",
   "metadata": {
    "execution": {
     "iopub.execute_input": "2021-08-03T14:15:09.754835Z",
     "iopub.status.busy": "2021-08-03T14:15:09.753613Z",
     "iopub.status.idle": "2021-08-03T14:15:10.113426Z",
     "shell.execute_reply": "2021-08-03T14:15:10.113890Z"
    },
    "papermill": {
     "duration": 0.471692,
     "end_time": "2021-08-03T14:15:10.114046",
     "exception": false,
     "start_time": "2021-08-03T14:15:09.642354",
     "status": "completed"
    },
    "tags": []
   },
   "outputs": [
    {
     "data": {
      "text/html": [
       "<div>\n",
       "<style scoped>\n",
       "    .dataframe tbody tr th:only-of-type {\n",
       "        vertical-align: middle;\n",
       "    }\n",
       "\n",
       "    .dataframe tbody tr th {\n",
       "        vertical-align: top;\n",
       "    }\n",
       "\n",
       "    .dataframe thead th {\n",
       "        text-align: right;\n",
       "    }\n",
       "</style>\n",
       "<table border=\"1\" class=\"dataframe\">\n",
       "  <thead>\n",
       "    <tr style=\"text-align: right;\">\n",
       "      <th></th>\n",
       "      <th>date_block_num</th>\n",
       "      <th>shop_id</th>\n",
       "      <th>item_id</th>\n",
       "      <th>item_price</th>\n",
       "      <th>item_cnt_day</th>\n",
       "    </tr>\n",
       "  </thead>\n",
       "  <tbody>\n",
       "    <tr>\n",
       "      <th>count</th>\n",
       "      <td>2.935849e+06</td>\n",
       "      <td>2.935849e+06</td>\n",
       "      <td>2.935849e+06</td>\n",
       "      <td>2.935849e+06</td>\n",
       "      <td>2.935849e+06</td>\n",
       "    </tr>\n",
       "    <tr>\n",
       "      <th>mean</th>\n",
       "      <td>1.456991e+01</td>\n",
       "      <td>3.300173e+01</td>\n",
       "      <td>1.019723e+04</td>\n",
       "      <td>8.908532e+02</td>\n",
       "      <td>1.242641e+00</td>\n",
       "    </tr>\n",
       "    <tr>\n",
       "      <th>std</th>\n",
       "      <td>9.422988e+00</td>\n",
       "      <td>1.622697e+01</td>\n",
       "      <td>6.324297e+03</td>\n",
       "      <td>1.729800e+03</td>\n",
       "      <td>2.618834e+00</td>\n",
       "    </tr>\n",
       "    <tr>\n",
       "      <th>min</th>\n",
       "      <td>0.000000e+00</td>\n",
       "      <td>0.000000e+00</td>\n",
       "      <td>0.000000e+00</td>\n",
       "      <td>-1.000000e+00</td>\n",
       "      <td>-2.200000e+01</td>\n",
       "    </tr>\n",
       "    <tr>\n",
       "      <th>25%</th>\n",
       "      <td>7.000000e+00</td>\n",
       "      <td>2.200000e+01</td>\n",
       "      <td>4.476000e+03</td>\n",
       "      <td>2.490000e+02</td>\n",
       "      <td>1.000000e+00</td>\n",
       "    </tr>\n",
       "    <tr>\n",
       "      <th>50%</th>\n",
       "      <td>1.400000e+01</td>\n",
       "      <td>3.100000e+01</td>\n",
       "      <td>9.343000e+03</td>\n",
       "      <td>3.990000e+02</td>\n",
       "      <td>1.000000e+00</td>\n",
       "    </tr>\n",
       "    <tr>\n",
       "      <th>75%</th>\n",
       "      <td>2.300000e+01</td>\n",
       "      <td>4.700000e+01</td>\n",
       "      <td>1.568400e+04</td>\n",
       "      <td>9.990000e+02</td>\n",
       "      <td>1.000000e+00</td>\n",
       "    </tr>\n",
       "    <tr>\n",
       "      <th>max</th>\n",
       "      <td>3.300000e+01</td>\n",
       "      <td>5.900000e+01</td>\n",
       "      <td>2.216900e+04</td>\n",
       "      <td>3.079800e+05</td>\n",
       "      <td>2.169000e+03</td>\n",
       "    </tr>\n",
       "  </tbody>\n",
       "</table>\n",
       "</div>"
      ],
      "text/plain": [
       "       date_block_num       shop_id       item_id    item_price  item_cnt_day\n",
       "count    2.935849e+06  2.935849e+06  2.935849e+06  2.935849e+06  2.935849e+06\n",
       "mean     1.456991e+01  3.300173e+01  1.019723e+04  8.908532e+02  1.242641e+00\n",
       "std      9.422988e+00  1.622697e+01  6.324297e+03  1.729800e+03  2.618834e+00\n",
       "min      0.000000e+00  0.000000e+00  0.000000e+00 -1.000000e+00 -2.200000e+01\n",
       "25%      7.000000e+00  2.200000e+01  4.476000e+03  2.490000e+02  1.000000e+00\n",
       "50%      1.400000e+01  3.100000e+01  9.343000e+03  3.990000e+02  1.000000e+00\n",
       "75%      2.300000e+01  4.700000e+01  1.568400e+04  9.990000e+02  1.000000e+00\n",
       "max      3.300000e+01  5.900000e+01  2.216900e+04  3.079800e+05  2.169000e+03"
      ]
     },
     "execution_count": 17,
     "metadata": {},
     "output_type": "execute_result"
    }
   ],
   "source": [
    "train.describe()"
   ]
  },
  {
   "cell_type": "code",
   "execution_count": 18,
   "id": "1d0cbe54",
   "metadata": {
    "execution": {
     "iopub.execute_input": "2021-08-03T14:15:10.275067Z",
     "iopub.status.busy": "2021-08-03T14:15:10.266708Z",
     "iopub.status.idle": "2021-08-03T14:15:23.205124Z",
     "shell.execute_reply": "2021-08-03T14:15:23.204660Z"
    },
    "papermill": {
     "duration": 13.021718,
     "end_time": "2021-08-03T14:15:23.205250",
     "exception": false,
     "start_time": "2021-08-03T14:15:10.183532",
     "status": "completed"
    },
    "tags": []
   },
   "outputs": [
    {
     "name": "stderr",
     "output_type": "stream",
     "text": [
      "/opt/conda/lib/python3.7/site-packages/seaborn/distributions.py:2557: FutureWarning: `distplot` is a deprecated function and will be removed in a future version. Please adapt your code to use either `displot` (a figure-level function with similar flexibility) or `histplot` (an axes-level function for histograms).\n",
      "  warnings.warn(msg, FutureWarning)\n"
     ]
    },
    {
     "data": {
      "image/png": "[encoded data removed]",
      "text/plain": [
       "<Figure size 864x576 with 1 Axes>"
      ]
     },
     "metadata": {},
     "output_type": "display_data"
    }
   ],
   "source": [
    "simple_hist(train, 'shop_id', 10, \n",
    "            'Distribution of stores in the train dataframe', 'shop_id', -5, 65)"
   ]
  },
  {
   "cell_type": "code",
   "execution_count": 19,
   "id": "cc3978cf",
   "metadata": {
    "execution": {
     "iopub.execute_input": "2021-08-03T14:15:23.361585Z",
     "iopub.status.busy": "2021-08-03T14:15:23.360497Z",
     "iopub.status.idle": "2021-08-03T14:15:37.932289Z",
     "shell.execute_reply": "2021-08-03T14:15:37.932745Z"
    },
    "papermill": {
     "duration": 14.663107,
     "end_time": "2021-08-03T14:15:37.932912",
     "exception": false,
     "start_time": "2021-08-03T14:15:23.269805",
     "status": "completed"
    },
    "tags": []
   },
   "outputs": [
    {
     "name": "stderr",
     "output_type": "stream",
     "text": [
      "/opt/conda/lib/python3.7/site-packages/seaborn/distributions.py:2557: FutureWarning: `distplot` is a deprecated function and will be removed in a future version. Please adapt your code to use either `displot` (a figure-level function with similar flexibility) or `histplot` (an axes-level function for histograms).\n",
      "  warnings.warn(msg, FutureWarning)\n"
     ]
    },
    {
     "data": {
      "image/png": "[encoded data removed]",
      "text/plain": [
       "<Figure size 864x576 with 1 Axes>"
      ]
     },
     "metadata": {},
     "output_type": "display_data"
    }
   ],
   "source": [
    "simple_hist(train, 'item_id', 30, \n",
    "            'Distribution of items in the train dataframe', 'item_id', -1000, 25000)"
   ]
  },
  {
   "cell_type": "code",
   "execution_count": 20,
   "id": "b0a1895c",
   "metadata": {
    "execution": {
     "iopub.execute_input": "2021-08-03T14:15:38.093300Z",
     "iopub.status.busy": "2021-08-03T14:15:38.092249Z",
     "iopub.status.idle": "2021-08-03T14:15:48.358315Z",
     "shell.execute_reply": "2021-08-03T14:15:48.357890Z"
    },
    "papermill": {
     "duration": 10.355405,
     "end_time": "2021-08-03T14:15:48.358434",
     "exception": false,
     "start_time": "2021-08-03T14:15:38.003029",
     "status": "completed"
    },
    "tags": []
   },
   "outputs": [
    {
     "name": "stderr",
     "output_type": "stream",
     "text": [
      "/opt/conda/lib/python3.7/site-packages/seaborn/distributions.py:2557: FutureWarning: `distplot` is a deprecated function and will be removed in a future version. Please adapt your code to use either `displot` (a figure-level function with similar flexibility) or `histplot` (an axes-level function for histograms).\n",
      "  warnings.warn(msg, FutureWarning)\n"
     ]
    },
    {
     "data": {
      "image/png": "[encoded data removed]",
      "text/plain": [
       "<Figure size 864x576 with 1 Axes>"
      ]
     },
     "metadata": {},
     "output_type": "display_data"
    }
   ],
   "source": [
    "simple_hist(train, 'item_price', 1000, \n",
    "            'Distribution of the price of items in the train dataframe', 'item_price', -100, 10000)"
   ]
  },
  {
   "cell_type": "code",
   "execution_count": 21,
   "id": "5732a251",
   "metadata": {
    "execution": {
     "iopub.execute_input": "2021-08-03T14:15:48.500794Z",
     "iopub.status.busy": "2021-08-03T14:15:48.499889Z",
     "iopub.status.idle": "2021-08-03T14:15:49.461183Z",
     "shell.execute_reply": "2021-08-03T14:15:49.460645Z"
    },
    "papermill": {
     "duration": 1.033939,
     "end_time": "2021-08-03T14:15:49.461310",
     "exception": false,
     "start_time": "2021-08-03T14:15:48.427371",
     "status": "completed"
    },
    "tags": []
   },
   "outputs": [
    {
     "data": {
      "text/plain": [
       "Text(0, 0.5, 'item_price')"
      ]
     },
     "execution_count": 21,
     "metadata": {},
     "output_type": "execute_result"
    },
    {
     "data": {
      "image/png": "[encoded data removed]",
      "text/plain": [
       "<Figure size 864x576 with 1 Axes>"
      ]
     },
     "metadata": {},
     "output_type": "display_data"
    }
   ],
   "source": [
    "plt.figure(figsize = (12, 8))\n",
    "sns.boxplot(y=train['item_price'])\n",
    "plt.ylim(0, 10000)\n",
    "plt.grid()\n",
    "plt.title('Boxplot for the price of goods in the range from 0 to 10000 rubles')\n",
    "plt.ylabel('item_price')"
   ]
  },
  {
   "cell_type": "code",
   "execution_count": 22,
   "id": "9c904ec2",
   "metadata": {
    "execution": {
     "iopub.execute_input": "2021-08-03T14:15:49.601130Z",
     "iopub.status.busy": "2021-08-03T14:15:49.600381Z",
     "iopub.status.idle": "2021-08-03T14:15:49.644318Z",
     "shell.execute_reply": "2021-08-03T14:15:49.644750Z"
    },
    "papermill": {
     "duration": 0.115399,
     "end_time": "2021-08-03T14:15:49.644912",
     "exception": false,
     "start_time": "2021-08-03T14:15:49.529513",
     "status": "completed"
    },
    "tags": []
   },
   "outputs": [
    {
     "data": {
      "text/plain": [
       "1.0      2629372\n",
       "2.0       194201\n",
       "3.0        47350\n",
       "4.0        19685\n",
       "5.0        10474\n",
       "          ...   \n",
       "412.0          1\n",
       "164.0          1\n",
       "624.0          1\n",
       "539.0          1\n",
       "161.0          1\n",
       "Name: item_cnt_day, Length: 198, dtype: int64"
      ]
     },
     "execution_count": 22,
     "metadata": {},
     "output_type": "execute_result"
    }
   ],
   "source": [
    "# the histogram is uninformative - it is better to look at the numbers\n",
    "train.item_cnt_day.value_counts()"
   ]
  },
  {
   "cell_type": "markdown",
   "id": "3cd605b7",
   "metadata": {
    "papermill": {
     "duration": 0.067542,
     "end_time": "2021-08-03T14:15:49.782867",
     "exception": false,
     "start_time": "2021-08-03T14:15:49.715325",
     "status": "completed"
    },
    "tags": []
   },
   "source": [
    "**Dataset test**"
   ]
  },
  {
   "cell_type": "code",
   "execution_count": 23,
   "id": "69ddffeb",
   "metadata": {
    "execution": {
     "iopub.execute_input": "2021-08-03T14:15:49.921745Z",
     "iopub.status.busy": "2021-08-03T14:15:49.921208Z",
     "iopub.status.idle": "2021-08-03T14:15:50.017059Z",
     "shell.execute_reply": "2021-08-03T14:15:50.016631Z"
    },
    "papermill": {
     "duration": 0.167047,
     "end_time": "2021-08-03T14:15:50.017177",
     "exception": false,
     "start_time": "2021-08-03T14:15:49.850130",
     "status": "completed"
    },
    "tags": []
   },
   "outputs": [
    {
     "data": {
      "text/html": [
       "<div>\n",
       "<style scoped>\n",
       "    .dataframe tbody tr th:only-of-type {\n",
       "        vertical-align: middle;\n",
       "    }\n",
       "\n",
       "    .dataframe tbody tr th {\n",
       "        vertical-align: top;\n",
       "    }\n",
       "\n",
       "    .dataframe thead th {\n",
       "        text-align: right;\n",
       "    }\n",
       "</style>\n",
       "<table border=\"1\" class=\"dataframe\">\n",
       "  <thead>\n",
       "    <tr style=\"text-align: right;\">\n",
       "      <th></th>\n",
       "      <th>ID</th>\n",
       "      <th>shop_id</th>\n",
       "      <th>item_id</th>\n",
       "    </tr>\n",
       "  </thead>\n",
       "  <tbody>\n",
       "    <tr>\n",
       "      <th>0</th>\n",
       "      <td>0</td>\n",
       "      <td>5</td>\n",
       "      <td>5037</td>\n",
       "    </tr>\n",
       "    <tr>\n",
       "      <th>1</th>\n",
       "      <td>1</td>\n",
       "      <td>5</td>\n",
       "      <td>5320</td>\n",
       "    </tr>\n",
       "    <tr>\n",
       "      <th>2</th>\n",
       "      <td>2</td>\n",
       "      <td>5</td>\n",
       "      <td>5233</td>\n",
       "    </tr>\n",
       "    <tr>\n",
       "      <th>3</th>\n",
       "      <td>3</td>\n",
       "      <td>5</td>\n",
       "      <td>5232</td>\n",
       "    </tr>\n",
       "    <tr>\n",
       "      <th>4</th>\n",
       "      <td>4</td>\n",
       "      <td>5</td>\n",
       "      <td>5268</td>\n",
       "    </tr>\n",
       "  </tbody>\n",
       "</table>\n",
       "</div>"
      ],
      "text/plain": [
       "   ID  shop_id  item_id\n",
       "0   0        5     5037\n",
       "1   1        5     5320\n",
       "2   2        5     5233\n",
       "3   3        5     5232\n",
       "4   4        5     5268"
      ]
     },
     "execution_count": 23,
     "metadata": {},
     "output_type": "execute_result"
    }
   ],
   "source": [
    "test = pd.read_csv('../input/competitive-data-science-predict-future-sales/test.csv')\n",
    "test.head()"
   ]
  },
  {
   "cell_type": "code",
   "execution_count": 24,
   "id": "90fb9ade",
   "metadata": {
    "execution": {
     "iopub.execute_input": "2021-08-03T14:15:50.160004Z",
     "iopub.status.busy": "2021-08-03T14:15:50.159225Z",
     "iopub.status.idle": "2021-08-03T14:15:50.169969Z",
     "shell.execute_reply": "2021-08-03T14:15:50.170573Z"
    },
    "papermill": {
     "duration": 0.083644,
     "end_time": "2021-08-03T14:15:50.170744",
     "exception": false,
     "start_time": "2021-08-03T14:15:50.087100",
     "status": "completed"
    },
    "tags": []
   },
   "outputs": [
    {
     "name": "stdout",
     "output_type": "stream",
     "text": [
      "<class 'pandas.core.frame.DataFrame'>\n",
      "RangeIndex: 214200 entries, 0 to 214199\n",
      "Data columns (total 3 columns):\n",
      " #   Column   Non-Null Count   Dtype\n",
      "---  ------   --------------   -----\n",
      " 0   ID       214200 non-null  int64\n",
      " 1   shop_id  214200 non-null  int64\n",
      " 2   item_id  214200 non-null  int64\n",
      "dtypes: int64(3)\n",
      "memory usage: 4.9 MB\n"
     ]
    }
   ],
   "source": [
    "test.info()"
   ]
  },
  {
   "cell_type": "code",
   "execution_count": 25,
   "id": "8217d206",
   "metadata": {
    "execution": {
     "iopub.execute_input": "2021-08-03T14:15:50.316770Z",
     "iopub.status.busy": "2021-08-03T14:15:50.315908Z",
     "iopub.status.idle": "2021-08-03T14:15:50.340281Z",
     "shell.execute_reply": "2021-08-03T14:15:50.340748Z"
    },
    "papermill": {
     "duration": 0.100728,
     "end_time": "2021-08-03T14:15:50.340895",
     "exception": false,
     "start_time": "2021-08-03T14:15:50.240167",
     "status": "completed"
    },
    "tags": []
   },
   "outputs": [
    {
     "data": {
      "text/html": [
       "<div>\n",
       "<style scoped>\n",
       "    .dataframe tbody tr th:only-of-type {\n",
       "        vertical-align: middle;\n",
       "    }\n",
       "\n",
       "    .dataframe tbody tr th {\n",
       "        vertical-align: top;\n",
       "    }\n",
       "\n",
       "    .dataframe thead th {\n",
       "        text-align: right;\n",
       "    }\n",
       "</style>\n",
       "<table border=\"1\" class=\"dataframe\">\n",
       "  <thead>\n",
       "    <tr style=\"text-align: right;\">\n",
       "      <th></th>\n",
       "      <th>ID</th>\n",
       "      <th>shop_id</th>\n",
       "      <th>item_id</th>\n",
       "    </tr>\n",
       "  </thead>\n",
       "  <tbody>\n",
       "    <tr>\n",
       "      <th>count</th>\n",
       "      <td>214200.000000</td>\n",
       "      <td>214200.000000</td>\n",
       "      <td>214200.000000</td>\n",
       "    </tr>\n",
       "    <tr>\n",
       "      <th>mean</th>\n",
       "      <td>107099.500000</td>\n",
       "      <td>31.642857</td>\n",
       "      <td>11019.398627</td>\n",
       "    </tr>\n",
       "    <tr>\n",
       "      <th>std</th>\n",
       "      <td>61834.358168</td>\n",
       "      <td>17.561933</td>\n",
       "      <td>6252.644590</td>\n",
       "    </tr>\n",
       "    <tr>\n",
       "      <th>min</th>\n",
       "      <td>0.000000</td>\n",
       "      <td>2.000000</td>\n",
       "      <td>30.000000</td>\n",
       "    </tr>\n",
       "    <tr>\n",
       "      <th>25%</th>\n",
       "      <td>53549.750000</td>\n",
       "      <td>16.000000</td>\n",
       "      <td>5381.500000</td>\n",
       "    </tr>\n",
       "    <tr>\n",
       "      <th>50%</th>\n",
       "      <td>107099.500000</td>\n",
       "      <td>34.500000</td>\n",
       "      <td>11203.000000</td>\n",
       "    </tr>\n",
       "    <tr>\n",
       "      <th>75%</th>\n",
       "      <td>160649.250000</td>\n",
       "      <td>47.000000</td>\n",
       "      <td>16071.500000</td>\n",
       "    </tr>\n",
       "    <tr>\n",
       "      <th>max</th>\n",
       "      <td>214199.000000</td>\n",
       "      <td>59.000000</td>\n",
       "      <td>22167.000000</td>\n",
       "    </tr>\n",
       "  </tbody>\n",
       "</table>\n",
       "</div>"
      ],
      "text/plain": [
       "                  ID        shop_id        item_id\n",
       "count  214200.000000  214200.000000  214200.000000\n",
       "mean   107099.500000      31.642857   11019.398627\n",
       "std     61834.358168      17.561933    6252.644590\n",
       "min         0.000000       2.000000      30.000000\n",
       "25%     53549.750000      16.000000    5381.500000\n",
       "50%    107099.500000      34.500000   11203.000000\n",
       "75%    160649.250000      47.000000   16071.500000\n",
       "max    214199.000000      59.000000   22167.000000"
      ]
     },
     "execution_count": 25,
     "metadata": {},
     "output_type": "execute_result"
    }
   ],
   "source": [
    "test.describe()"
   ]
  },
  {
   "cell_type": "code",
   "execution_count": 26,
   "id": "39a3a60e",
   "metadata": {
    "execution": {
     "iopub.execute_input": "2021-08-03T14:15:50.509632Z",
     "iopub.status.busy": "2021-08-03T14:15:50.508772Z",
     "iopub.status.idle": "2021-08-03T14:15:51.735654Z",
     "shell.execute_reply": "2021-08-03T14:15:51.736071Z"
    },
    "papermill": {
     "duration": 1.321705,
     "end_time": "2021-08-03T14:15:51.736238",
     "exception": false,
     "start_time": "2021-08-03T14:15:50.414533",
     "status": "completed"
    },
    "tags": []
   },
   "outputs": [
    {
     "name": "stderr",
     "output_type": "stream",
     "text": [
      "/opt/conda/lib/python3.7/site-packages/seaborn/distributions.py:2557: FutureWarning: `distplot` is a deprecated function and will be removed in a future version. Please adapt your code to use either `displot` (a figure-level function with similar flexibility) or `histplot` (an axes-level function for histograms).\n",
      "  warnings.warn(msg, FutureWarning)\n"
     ]
    },
    {
     "data": {
      "image/png": "[encoded data removed]",
      "text/plain": [
       "<Figure size 864x576 with 1 Axes>"
      ]
     },
     "metadata": {},
     "output_type": "display_data"
    }
   ],
   "source": [
    "simple_hist(test, 'shop_id', 10, \n",
    "            'Shops distributions in the test dataframe', 'id shops', 0, 70)\n",
    "# the distributions of the training and test datasets are different in this fic"
   ]
  },
  {
   "cell_type": "code",
   "execution_count": 27,
   "id": "f1f728be",
   "metadata": {
    "execution": {
     "iopub.execute_input": "2021-08-03T14:15:51.905367Z",
     "iopub.status.busy": "2021-08-03T14:15:51.904471Z",
     "iopub.status.idle": "2021-08-03T14:15:53.096216Z",
     "shell.execute_reply": "2021-08-03T14:15:53.095292Z"
    },
    "papermill": {
     "duration": 1.289011,
     "end_time": "2021-08-03T14:15:53.096356",
     "exception": false,
     "start_time": "2021-08-03T14:15:51.807345",
     "status": "completed"
    },
    "tags": []
   },
   "outputs": [
    {
     "name": "stderr",
     "output_type": "stream",
     "text": [
      "/opt/conda/lib/python3.7/site-packages/seaborn/distributions.py:2557: FutureWarning: `distplot` is a deprecated function and will be removed in a future version. Please adapt your code to use either `displot` (a figure-level function with similar flexibility) or `histplot` (an axes-level function for histograms).\n",
      "  warnings.warn(msg, FutureWarning)\n"
     ]
    },
    {
     "data": {
      "image/png": "[encoded data removed]",
      "text/plain": [
       "<Figure size 864x576 with 1 Axes>"
      ]
     },
     "metadata": {},
     "output_type": "display_data"
    }
   ],
   "source": [
    "simple_hist(test, 'item_id', 30, \n",
    "            'Distribution of items in the test dataframe', 'id items', 0, 25000)\n",
    "# the distributions of the training and test datasets are similar in this feature"
   ]
  },
  {
   "cell_type": "markdown",
   "id": "e6192274",
   "metadata": {
    "papermill": {
     "duration": 0.071001,
     "end_time": "2021-08-03T14:15:53.241281",
     "exception": false,
     "start_time": "2021-08-03T14:15:53.170280",
     "status": "completed"
    },
    "tags": []
   },
   "source": [
    "**Dataset submission**"
   ]
  },
  {
   "cell_type": "code",
   "execution_count": 28,
   "id": "caed1533",
   "metadata": {
    "execution": {
     "iopub.execute_input": "2021-08-03T14:15:53.387529Z",
     "iopub.status.busy": "2021-08-03T14:15:53.386901Z",
     "iopub.status.idle": "2021-08-03T14:15:53.460125Z",
     "shell.execute_reply": "2021-08-03T14:15:53.459612Z"
    },
    "papermill": {
     "duration": 0.147858,
     "end_time": "2021-08-03T14:15:53.460249",
     "exception": false,
     "start_time": "2021-08-03T14:15:53.312391",
     "status": "completed"
    },
    "tags": []
   },
   "outputs": [],
   "source": [
    "sample_submission = pd.read_csv('../input/competitive-data-science-predict-future-sales/sample_submission.csv')"
   ]
  },
  {
   "cell_type": "code",
   "execution_count": 29,
   "id": "16e90c4e",
   "metadata": {
    "execution": {
     "iopub.execute_input": "2021-08-03T14:15:53.615127Z",
     "iopub.status.busy": "2021-08-03T14:15:53.614342Z",
     "iopub.status.idle": "2021-08-03T14:15:53.617509Z",
     "shell.execute_reply": "2021-08-03T14:15:53.617889Z"
    },
    "papermill": {
     "duration": 0.084285,
     "end_time": "2021-08-03T14:15:53.618020",
     "exception": false,
     "start_time": "2021-08-03T14:15:53.533735",
     "status": "completed"
    },
    "tags": []
   },
   "outputs": [
    {
     "data": {
      "text/html": [
       "<div>\n",
       "<style scoped>\n",
       "    .dataframe tbody tr th:only-of-type {\n",
       "        vertical-align: middle;\n",
       "    }\n",
       "\n",
       "    .dataframe tbody tr th {\n",
       "        vertical-align: top;\n",
       "    }\n",
       "\n",
       "    .dataframe thead th {\n",
       "        text-align: right;\n",
       "    }\n",
       "</style>\n",
       "<table border=\"1\" class=\"dataframe\">\n",
       "  <thead>\n",
       "    <tr style=\"text-align: right;\">\n",
       "      <th></th>\n",
       "      <th>ID</th>\n",
       "      <th>item_cnt_month</th>\n",
       "    </tr>\n",
       "  </thead>\n",
       "  <tbody>\n",
       "    <tr>\n",
       "      <th>0</th>\n",
       "      <td>0</td>\n",
       "      <td>0.5</td>\n",
       "    </tr>\n",
       "    <tr>\n",
       "      <th>1</th>\n",
       "      <td>1</td>\n",
       "      <td>0.5</td>\n",
       "    </tr>\n",
       "    <tr>\n",
       "      <th>2</th>\n",
       "      <td>2</td>\n",
       "      <td>0.5</td>\n",
       "    </tr>\n",
       "    <tr>\n",
       "      <th>3</th>\n",
       "      <td>3</td>\n",
       "      <td>0.5</td>\n",
       "    </tr>\n",
       "    <tr>\n",
       "      <th>4</th>\n",
       "      <td>4</td>\n",
       "      <td>0.5</td>\n",
       "    </tr>\n",
       "  </tbody>\n",
       "</table>\n",
       "</div>"
      ],
      "text/plain": [
       "   ID  item_cnt_month\n",
       "0   0             0.5\n",
       "1   1             0.5\n",
       "2   2             0.5\n",
       "3   3             0.5\n",
       "4   4             0.5"
      ]
     },
     "execution_count": 29,
     "metadata": {},
     "output_type": "execute_result"
    }
   ],
   "source": [
    "sample_submission.head()"
   ]
  },
  {
   "cell_type": "markdown",
   "id": "2bccd26a",
   "metadata": {
    "papermill": {
     "duration": 0.071999,
     "end_time": "2021-08-03T14:15:53.765354",
     "exception": false,
     "start_time": "2021-08-03T14:15:53.693355",
     "status": "completed"
    },
    "tags": []
   },
   "source": [
    "**Data Leakage**\n",
    "\n",
    "Around 42% of training shop_id ~ item_id pairs are present in test set, but I don't use it."
   ]
  },
  {
   "cell_type": "code",
   "execution_count": 30,
   "id": "56959a8a",
   "metadata": {
    "execution": {
     "iopub.execute_input": "2021-08-03T14:15:54.919480Z",
     "iopub.status.busy": "2021-08-03T14:15:54.918454Z",
     "iopub.status.idle": "2021-08-03T14:15:57.098306Z",
     "shell.execute_reply": "2021-08-03T14:15:57.097893Z"
    },
    "papermill": {
     "duration": 3.261293,
     "end_time": "2021-08-03T14:15:57.098424",
     "exception": false,
     "start_time": "2021-08-03T14:15:53.837131",
     "status": "completed"
    },
    "tags": []
   },
   "outputs": [
    {
     "name": "stdout",
     "output_type": "stream",
     "text": [
      "42.0%\n"
     ]
    }
   ],
   "source": [
    "df_temp = pd.Series(list(train[['item_id', 'shop_id']].itertuples(index=False, name=None)))\n",
    "test_iter_temp = pd.Series(list(test[['item_id', 'shop_id']].itertuples(index=False, name=None)))\n",
    "print(str(round(df_temp.isin(test_iter_temp).sum()/len(df_temp),2)*100)+'%')"
   ]
  },
  {
   "cell_type": "code",
   "execution_count": 31,
   "id": "a309acb8",
   "metadata": {
    "execution": {
     "iopub.execute_input": "2021-08-03T14:15:57.248821Z",
     "iopub.status.busy": "2021-08-03T14:15:57.248016Z",
     "iopub.status.idle": "2021-08-03T14:15:57.250553Z",
     "shell.execute_reply": "2021-08-03T14:15:57.250104Z"
    },
    "papermill": {
     "duration": 0.078051,
     "end_time": "2021-08-03T14:15:57.250667",
     "exception": false,
     "start_time": "2021-08-03T14:15:57.172616",
     "status": "completed"
    },
    "tags": []
   },
   "outputs": [],
   "source": [
    "#test_shop_ids = test['shop_id'].unique()\n",
    "#test_item_ids = test['item_id'].unique()\n",
    "# Only shops that exist in test set.\n",
    "#train = train[train['shop_id'].isin(test_shop_ids)]\n",
    "# Only items that exist in test set.\n",
    "#train = train[train['item_id'].isin(test_item_ids)]"
   ]
  },
  {
   "cell_type": "markdown",
   "id": "466ac774",
   "metadata": {
    "papermill": {
     "duration": 0.07271,
     "end_time": "2021-08-03T14:15:57.396454",
     "exception": false,
     "start_time": "2021-08-03T14:15:57.323744",
     "status": "completed"
    },
    "tags": []
   },
   "source": [
    "# **Prepare and feature engineering data**"
   ]
  },
  {
   "cell_type": "code",
   "execution_count": 32,
   "id": "d1d969fb",
   "metadata": {
    "execution": {
     "iopub.execute_input": "2021-08-03T14:15:57.547569Z",
     "iopub.status.busy": "2021-08-03T14:15:57.546738Z",
     "iopub.status.idle": "2021-08-03T14:15:57.779446Z",
     "shell.execute_reply": "2021-08-03T14:15:57.778988Z"
    },
    "papermill": {
     "duration": 0.30991,
     "end_time": "2021-08-03T14:15:57.779591",
     "exception": false,
     "start_time": "2021-08-03T14:15:57.469681",
     "status": "completed"
    },
    "tags": []
   },
   "outputs": [],
   "source": [
    "# remove outliers\n",
    "train = train[train.item_price < 100000]\n",
    "train = train[train.item_cnt_day <= 900]"
   ]
  },
  {
   "cell_type": "markdown",
   "id": "d6910333",
   "metadata": {
    "papermill": {
     "duration": 0.125048,
     "end_time": "2021-08-03T14:15:57.988751",
     "exception": false,
     "start_time": "2021-08-03T14:15:57.863703",
     "status": "completed"
    },
    "tags": []
   },
   "source": [
    "**Aggregate train data**\n",
    "\n",
    "Since the test data is generated with combination of shops and items, we have to restructure train data to match the test data generation."
   ]
  },
  {
   "cell_type": "code",
   "execution_count": 33,
   "id": "8deb6c42",
   "metadata": {
    "execution": {
     "iopub.execute_input": "2021-08-03T14:15:58.241980Z",
     "iopub.status.busy": "2021-08-03T14:15:58.241145Z",
     "iopub.status.idle": "2021-08-03T14:16:19.079148Z",
     "shell.execute_reply": "2021-08-03T14:16:19.078198Z"
    },
    "papermill": {
     "duration": 20.968068,
     "end_time": "2021-08-03T14:16:19.079285",
     "exception": false,
     "start_time": "2021-08-03T14:15:58.111217",
     "status": "completed"
    },
    "tags": []
   },
   "outputs": [],
   "source": [
    "# aggregate\n",
    "index_cols = ['shop_id', 'item_id', 'date_block_num']\n",
    "\n",
    "# compute all shops/items combinations\n",
    "grid = []\n",
    "for block_num in train['date_block_num'].unique():\n",
    "    cur_shops = train.loc[train['date_block_num'] == block_num, 'shop_id'].unique()\n",
    "    cur_items = train.loc[train['date_block_num'] == block_num, 'item_id'].unique()\n",
    "    grid.append(np.array(list(product(*[cur_shops, cur_items, [block_num]])),dtype='int32'))\n",
    "grid = pd.DataFrame(np.vstack(grid), columns = index_cols,dtype=np.int32)"
   ]
  },
  {
   "cell_type": "code",
   "execution_count": 34,
   "id": "f0667161",
   "metadata": {
    "execution": {
     "iopub.execute_input": "2021-08-03T14:16:19.235708Z",
     "iopub.status.busy": "2021-08-03T14:16:19.234918Z",
     "iopub.status.idle": "2021-08-03T14:16:19.812557Z",
     "shell.execute_reply": "2021-08-03T14:16:19.812028Z"
    },
    "papermill": {
     "duration": 0.657873,
     "end_time": "2021-08-03T14:16:19.812690",
     "exception": false,
     "start_time": "2021-08-03T14:16:19.154817",
     "status": "completed"
    },
    "tags": []
   },
   "outputs": [],
   "source": [
    "# add sale for month\n",
    "train_merge = train.groupby(['date_block_num', 'shop_id', 'item_id']).agg({'item_cnt_day':'sum'})\n",
    "train_merge.columns = ['item_cnt_month']\n",
    "train_merge.reset_index(inplace=True)"
   ]
  },
  {
   "cell_type": "code",
   "execution_count": 35,
   "id": "ccd44a15",
   "metadata": {
    "execution": {
     "iopub.execute_input": "2021-08-03T14:16:20.081489Z",
     "iopub.status.busy": "2021-08-03T14:16:20.079919Z",
     "iopub.status.idle": "2021-08-03T14:16:24.210260Z",
     "shell.execute_reply": "2021-08-03T14:16:24.209416Z"
    },
    "papermill": {
     "duration": 4.279511,
     "end_time": "2021-08-03T14:16:24.210411",
     "exception": false,
     "start_time": "2021-08-03T14:16:19.930900",
     "status": "completed"
    },
    "tags": []
   },
   "outputs": [],
   "source": [
    "# merge grid and train\n",
    "train_merge = pd.merge(grid, train_merge, on = index_cols, how='left').fillna(0)\n",
    "train_merge['item_cnt_month'] = train_merge['item_cnt_month'].clip(0, 40)"
   ]
  },
  {
   "cell_type": "markdown",
   "id": "d8310a57",
   "metadata": {
    "papermill": {
     "duration": 0.073429,
     "end_time": "2021-08-03T14:16:24.358762",
     "exception": false,
     "start_time": "2021-08-03T14:16:24.285333",
     "status": "completed"
    },
    "tags": []
   },
   "source": [
    "**Merge train and item datasets**"
   ]
  },
  {
   "cell_type": "code",
   "execution_count": 36,
   "id": "6806c5f6",
   "metadata": {
    "execution": {
     "iopub.execute_input": "2021-08-03T14:16:24.510569Z",
     "iopub.status.busy": "2021-08-03T14:16:24.509737Z",
     "iopub.status.idle": "2021-08-03T14:16:26.571086Z",
     "shell.execute_reply": "2021-08-03T14:16:26.570543Z"
    },
    "papermill": {
     "duration": 2.139433,
     "end_time": "2021-08-03T14:16:26.571208",
     "exception": false,
     "start_time": "2021-08-03T14:16:24.431775",
     "status": "completed"
    },
    "tags": []
   },
   "outputs": [],
   "source": [
    "items_prepare = pd.merge(items, item_categories, on='item_category_id')\n",
    "train_merge = pd.merge(train_merge, items_prepare, on = ['item_id'], how = 'left')"
   ]
  },
  {
   "cell_type": "markdown",
   "id": "3787aaab",
   "metadata": {
    "papermill": {
     "duration": 0.072579,
     "end_time": "2021-08-03T14:16:26.717581",
     "exception": false,
     "start_time": "2021-08-03T14:16:26.645002",
     "status": "completed"
    },
    "tags": []
   },
   "source": [
    "**Prepare test**"
   ]
  },
  {
   "cell_type": "code",
   "execution_count": 37,
   "id": "f3873e30",
   "metadata": {
    "execution": {
     "iopub.execute_input": "2021-08-03T14:16:26.869396Z",
     "iopub.status.busy": "2021-08-03T14:16:26.868528Z",
     "iopub.status.idle": "2021-08-03T14:16:26.877362Z",
     "shell.execute_reply": "2021-08-03T14:16:26.876941Z"
    },
    "papermill": {
     "duration": 0.086656,
     "end_time": "2021-08-03T14:16:26.877495",
     "exception": false,
     "start_time": "2021-08-03T14:16:26.790839",
     "status": "completed"
    },
    "tags": []
   },
   "outputs": [],
   "source": [
    "# prepare to concat with train\n",
    "test_temp = test.copy()\n",
    "test_temp['date_block_num'] = 34\n",
    "test_temp.drop('ID', axis=1, inplace=True)"
   ]
  },
  {
   "cell_type": "code",
   "execution_count": 38,
   "id": "7425ee0a",
   "metadata": {
    "execution": {
     "iopub.execute_input": "2021-08-03T14:16:27.031946Z",
     "iopub.status.busy": "2021-08-03T14:16:27.030284Z",
     "iopub.status.idle": "2021-08-03T14:16:27.085508Z",
     "shell.execute_reply": "2021-08-03T14:16:27.085059Z"
    },
    "papermill": {
     "duration": 0.13394,
     "end_time": "2021-08-03T14:16:27.085641",
     "exception": false,
     "start_time": "2021-08-03T14:16:26.951701",
     "status": "completed"
    },
    "tags": []
   },
   "outputs": [],
   "source": [
    "# merge with items and item_category\n",
    "test_temp = test_temp.merge(items, how='left', on='item_id')\n",
    "test_temp = test_temp.merge(item_categories, how='left', on='item_category_id')\n",
    "test_temp.drop('item_name', axis=1, inplace=True)"
   ]
  },
  {
   "cell_type": "code",
   "execution_count": 39,
   "id": "fe01a08a",
   "metadata": {
    "execution": {
     "iopub.execute_input": "2021-08-03T14:16:27.793988Z",
     "iopub.status.busy": "2021-08-03T14:16:27.472492Z",
     "iopub.status.idle": "2021-08-03T14:16:31.556891Z",
     "shell.execute_reply": "2021-08-03T14:16:31.556408Z"
    },
    "papermill": {
     "duration": 4.395458,
     "end_time": "2021-08-03T14:16:31.557020",
     "exception": false,
     "start_time": "2021-08-03T14:16:27.161562",
     "status": "completed"
    },
    "tags": []
   },
   "outputs": [],
   "source": [
    "# concat test and train dataframes\n",
    "train_merge = pd.concat([train_merge, test_temp], axis=0, ignore_index=True, keys=index_cols)\n",
    "train_merge.fillna(0, inplace=True)"
   ]
  },
  {
   "cell_type": "markdown",
   "id": "fbd97a76",
   "metadata": {
    "papermill": {
     "duration": 0.077125,
     "end_time": "2021-08-03T14:16:31.714080",
     "exception": false,
     "start_time": "2021-08-03T14:16:31.636955",
     "status": "completed"
    },
    "tags": []
   },
   "source": [
    "**Prepare items features**\n",
    "\n",
    "Categorization of products."
   ]
  },
  {
   "cell_type": "code",
   "execution_count": 40,
   "id": "44bd77b5",
   "metadata": {
    "execution": {
     "iopub.execute_input": "2021-08-03T14:16:32.068131Z",
     "iopub.status.busy": "2021-08-03T14:16:32.063015Z",
     "iopub.status.idle": "2021-08-03T14:16:46.885250Z",
     "shell.execute_reply": "2021-08-03T14:16:46.884777Z"
    },
    "papermill": {
     "duration": 15.08982,
     "end_time": "2021-08-03T14:16:46.885383",
     "exception": false,
     "start_time": "2021-08-03T14:16:31.795563",
     "status": "completed"
    },
    "tags": []
   },
   "outputs": [],
   "source": [
    "map_dict = {\n",
    "            'Чистые носители (штучные)': 'Чистые носители',\n",
    "            'Чистые носители (шпиль)' : 'Чистые носители',\n",
    "            'PC ': 'Аксессуары',\n",
    "            'Служебные': 'Служебные '\n",
    "            }\n",
    "# extract common categories\n",
    "train_merge['item_category'] = train_merge['item_category_name'].apply(lambda x: x.split('-')[0])\n",
    "train_merge['item_category'] = train_merge['item_category'].apply(lambda x: map_dict[x] if x in map_dict.keys() else x)\n",
    "# encoding common categories\n",
    "train_merge['item_category_common'] = LabelEncoder().fit_transform(train_merge['item_category'])"
   ]
  },
  {
   "cell_type": "markdown",
   "id": "6bd5edc9",
   "metadata": {
    "papermill": {
     "duration": 0.080741,
     "end_time": "2021-08-03T14:16:47.048173",
     "exception": false,
     "start_time": "2021-08-03T14:16:46.967432",
     "status": "completed"
    },
    "tags": []
   },
   "source": [
    "**Prepare shops features**\n",
    "\n",
    "Extract and encode the names of cities. Add new features - coordinates of cities and parts of the country."
   ]
  },
  {
   "cell_type": "code",
   "execution_count": 41,
   "id": "faced815",
   "metadata": {
    "execution": {
     "iopub.execute_input": "2021-08-03T14:16:47.229021Z",
     "iopub.status.busy": "2021-08-03T14:16:47.227985Z",
     "iopub.status.idle": "2021-08-03T14:16:47.230345Z",
     "shell.execute_reply": "2021-08-03T14:16:47.230903Z"
    },
    "papermill": {
     "duration": 0.105827,
     "end_time": "2021-08-03T14:16:47.231056",
     "exception": false,
     "start_time": "2021-08-03T14:16:47.125229",
     "status": "completed"
    },
    "tags": []
   },
   "outputs": [],
   "source": [
    "# extract and encode cities\n",
    "shops['city'] = shops['shop_name'].apply(lambda x: x.split()[0].lower())\n",
    "shops.loc[shops.city == '!якутск', 'city'] = 'якутск'\n",
    "shops['city_code'] = LabelEncoder().fit_transform(shops['city'])\n",
    "# add coordinates of cities\n",
    "coords = dict()\n",
    "coords['якутск'] = (62.028098, 129.732555, 4)\n",
    "coords['адыгея'] = (44.609764, 40.100516, 3)\n",
    "coords['балашиха'] = (55.8094500, 37.9580600, 1)\n",
    "coords['волжский'] = (53.4305800, 50.1190000, 3)\n",
    "coords['вологда'] = (59.2239000, 39.8839800, 2)\n",
    "coords['воронеж'] = (51.6720400, 39.1843000, 3)\n",
    "coords['выездная'] = (0, 0, 0)\n",
    "coords['жуковский'] = (55.5952800, 38.1202800, 1)\n",
    "coords['интернет-магазин'] = (0, 0, 0)\n",
    "coords['казань'] = (55.7887400, 49.1221400, 4)\n",
    "coords['калуга'] = (54.5293000, 36.2754200, 4)\n",
    "coords['коломна'] = (55.0794400, 38.7783300, 4)\n",
    "coords['красноярск'] = (56.0183900, 92.8671700, 4)\n",
    "coords['курск'] = (51.7373300, 36.1873500, 3)\n",
    "coords['москва'] = (55.7522200, 37.6155600, 1)\n",
    "coords['мытищи'] = (55.9116300, 37.7307600, 1)\n",
    "coords['н.новгород'] = (56.3286700, 44.0020500, 4)\n",
    "coords['новосибирск'] = (55.0415000, 82.9346000, 4)\n",
    "coords['омск'] = (54.9924400, 73.3685900, 4)\n",
    "coords['ростовнадону'] = (47.2313500, 39.7232800, 3)\n",
    "coords['спб'] = (59.9386300, 30.3141300, 2)\n",
    "coords['самара'] = (53.2000700, 50.1500000, 4)\n",
    "coords['сергиев'] = (56.3000000, 38.1333300, 4)\n",
    "coords['сургут'] = (61.2500000, 73.4166700, 4)\n",
    "coords['томск'] = (56.4977100, 84.9743700, 4)\n",
    "coords['тюмень'] = (57.1522200, 65.5272200, 4)\n",
    "coords['уфа'] = (54.7430600, 55.9677900, 4)\n",
    "coords['химки'] = (55.8970400, 37.4296900, 1)\n",
    "coords['цифровой'] = (0, 0, 0)\n",
    "coords['чехов'] = (55.1477000, 37.4772800, 4)\n",
    "coords['ярославль'] = (57.6298700, 39.8736800, 2) \n",
    "\n",
    "shops['city_coord_1'] = shops['city'].apply(lambda x: coords[x][0])\n",
    "shops['city_coord_2'] = shops['city'].apply(lambda x: coords[x][1])\n",
    "shops['country_part'] = shops['city'].apply(lambda x: coords[x][2])\n",
    "\n",
    "shops = shops[['shop_id', 'city_code', 'city_coord_1', 'city_coord_2', 'country_part']]"
   ]
  },
  {
   "cell_type": "code",
   "execution_count": 42,
   "id": "4192ea8d",
   "metadata": {
    "execution": {
     "iopub.execute_input": "2021-08-03T14:16:47.397668Z",
     "iopub.status.busy": "2021-08-03T14:16:47.396900Z",
     "iopub.status.idle": "2021-08-03T14:16:50.500238Z",
     "shell.execute_reply": "2021-08-03T14:16:50.499718Z"
    },
    "papermill": {
     "duration": 3.189092,
     "end_time": "2021-08-03T14:16:50.500382",
     "exception": false,
     "start_time": "2021-08-03T14:16:47.311290",
     "status": "completed"
    },
    "tags": []
   },
   "outputs": [],
   "source": [
    "train_merge = pd.merge(train_merge, shops, on = ['shop_id'], how='left')"
   ]
  },
  {
   "cell_type": "code",
   "execution_count": 43,
   "id": "183f82e2",
   "metadata": {
    "execution": {
     "iopub.execute_input": "2021-08-03T14:16:50.666950Z",
     "iopub.status.busy": "2021-08-03T14:16:50.665852Z",
     "iopub.status.idle": "2021-08-03T14:16:53.355089Z",
     "shell.execute_reply": "2021-08-03T14:16:53.354155Z"
    },
    "papermill": {
     "duration": 2.776021,
     "end_time": "2021-08-03T14:16:53.355266",
     "exception": false,
     "start_time": "2021-08-03T14:16:50.579245",
     "status": "completed"
    },
    "tags": []
   },
   "outputs": [],
   "source": [
    "train_merge.drop(['item_name', 'item_category_name', 'item_category'], axis=1, inplace=True)"
   ]
  },
  {
   "cell_type": "code",
   "execution_count": 44,
   "id": "cfd542c3",
   "metadata": {
    "execution": {
     "iopub.execute_input": "2021-08-03T14:16:53.559118Z",
     "iopub.status.busy": "2021-08-03T14:16:53.558293Z",
     "iopub.status.idle": "2021-08-03T14:16:53.563824Z",
     "shell.execute_reply": "2021-08-03T14:16:53.563231Z"
    },
    "papermill": {
     "duration": 0.101887,
     "end_time": "2021-08-03T14:16:53.563956",
     "exception": false,
     "start_time": "2021-08-03T14:16:53.462069",
     "status": "completed"
    },
    "tags": []
   },
   "outputs": [
    {
     "data": {
      "text/html": [
       "<div>\n",
       "<style scoped>\n",
       "    .dataframe tbody tr th:only-of-type {\n",
       "        vertical-align: middle;\n",
       "    }\n",
       "\n",
       "    .dataframe tbody tr th {\n",
       "        vertical-align: top;\n",
       "    }\n",
       "\n",
       "    .dataframe thead th {\n",
       "        text-align: right;\n",
       "    }\n",
       "</style>\n",
       "<table border=\"1\" class=\"dataframe\">\n",
       "  <thead>\n",
       "    <tr style=\"text-align: right;\">\n",
       "      <th></th>\n",
       "      <th>shop_id</th>\n",
       "      <th>item_id</th>\n",
       "      <th>date_block_num</th>\n",
       "      <th>item_cnt_month</th>\n",
       "      <th>item_category_id</th>\n",
       "      <th>item_category_common</th>\n",
       "      <th>city_code</th>\n",
       "      <th>city_coord_1</th>\n",
       "      <th>city_coord_2</th>\n",
       "      <th>country_part</th>\n",
       "    </tr>\n",
       "  </thead>\n",
       "  <tbody>\n",
       "    <tr>\n",
       "      <th>0</th>\n",
       "      <td>59</td>\n",
       "      <td>22154</td>\n",
       "      <td>0</td>\n",
       "      <td>1.0</td>\n",
       "      <td>37</td>\n",
       "      <td>11</td>\n",
       "      <td>30</td>\n",
       "      <td>57.62987</td>\n",
       "      <td>39.87368</td>\n",
       "      <td>2</td>\n",
       "    </tr>\n",
       "    <tr>\n",
       "      <th>1</th>\n",
       "      <td>59</td>\n",
       "      <td>2552</td>\n",
       "      <td>0</td>\n",
       "      <td>0.0</td>\n",
       "      <td>58</td>\n",
       "      <td>13</td>\n",
       "      <td>30</td>\n",
       "      <td>57.62987</td>\n",
       "      <td>39.87368</td>\n",
       "      <td>2</td>\n",
       "    </tr>\n",
       "    <tr>\n",
       "      <th>2</th>\n",
       "      <td>59</td>\n",
       "      <td>2554</td>\n",
       "      <td>0</td>\n",
       "      <td>0.0</td>\n",
       "      <td>58</td>\n",
       "      <td>13</td>\n",
       "      <td>30</td>\n",
       "      <td>57.62987</td>\n",
       "      <td>39.87368</td>\n",
       "      <td>2</td>\n",
       "    </tr>\n",
       "    <tr>\n",
       "      <th>3</th>\n",
       "      <td>59</td>\n",
       "      <td>2555</td>\n",
       "      <td>0</td>\n",
       "      <td>0.0</td>\n",
       "      <td>56</td>\n",
       "      <td>13</td>\n",
       "      <td>30</td>\n",
       "      <td>57.62987</td>\n",
       "      <td>39.87368</td>\n",
       "      <td>2</td>\n",
       "    </tr>\n",
       "    <tr>\n",
       "      <th>4</th>\n",
       "      <td>59</td>\n",
       "      <td>2564</td>\n",
       "      <td>0</td>\n",
       "      <td>0.0</td>\n",
       "      <td>59</td>\n",
       "      <td>13</td>\n",
       "      <td>30</td>\n",
       "      <td>57.62987</td>\n",
       "      <td>39.87368</td>\n",
       "      <td>2</td>\n",
       "    </tr>\n",
       "  </tbody>\n",
       "</table>\n",
       "</div>"
      ],
      "text/plain": [
       "   shop_id  item_id  date_block_num  item_cnt_month  item_category_id  \\\n",
       "0       59    22154               0             1.0                37   \n",
       "1       59     2552               0             0.0                58   \n",
       "2       59     2554               0             0.0                58   \n",
       "3       59     2555               0             0.0                56   \n",
       "4       59     2564               0             0.0                59   \n",
       "\n",
       "   item_category_common  city_code  city_coord_1  city_coord_2  country_part  \n",
       "0                    11         30      57.62987      39.87368             2  \n",
       "1                    13         30      57.62987      39.87368             2  \n",
       "2                    13         30      57.62987      39.87368             2  \n",
       "3                    13         30      57.62987      39.87368             2  \n",
       "4                    13         30      57.62987      39.87368             2  "
      ]
     },
     "execution_count": 44,
     "metadata": {},
     "output_type": "execute_result"
    }
   ],
   "source": [
    "train_merge.head()"
   ]
  },
  {
   "cell_type": "markdown",
   "id": "246af053",
   "metadata": {
    "papermill": {
     "duration": 0.083917,
     "end_time": "2021-08-03T14:16:53.735258",
     "exception": false,
     "start_time": "2021-08-03T14:16:53.651341",
     "status": "completed"
    },
    "tags": []
   },
   "source": [
    "**Generate lag feature and mean encoding**"
   ]
  },
  {
   "cell_type": "code",
   "execution_count": 45,
   "id": "231519cc",
   "metadata": {
    "execution": {
     "iopub.execute_input": "2021-08-03T14:16:53.952646Z",
     "iopub.status.busy": "2021-08-03T14:16:53.951057Z",
     "iopub.status.idle": "2021-08-03T14:16:53.953298Z",
     "shell.execute_reply": "2021-08-03T14:16:53.954303Z"
    },
    "papermill": {
     "duration": 0.137295,
     "end_time": "2021-08-03T14:16:53.954473",
     "exception": false,
     "start_time": "2021-08-03T14:16:53.817178",
     "status": "completed"
    },
    "tags": []
   },
   "outputs": [],
   "source": [
    "# define lag_feature\n",
    "def lag_feature(data, lags, column):\n",
    "    temp = data[['date_block_num', 'shop_id', 'item_id', column]]\n",
    "    for lag in lags:\n",
    "        shifted = temp.copy()\n",
    "        shifted.columns = ['date_block_num','shop_id','item_id', column + '_lag_' + str(lag)]\n",
    "        shifted['date_block_num'] += lag\n",
    "        data = pd.merge(data, shifted, on=['date_block_num','shop_id','item_id'], how='left')\n",
    "        data[column+'_lag_'+str(lag)] = data[column+'_lag_'+str(lag)].astype('float16')\n",
    "    return data"
   ]
  },
  {
   "cell_type": "code",
   "execution_count": 46,
   "id": "60ec3167",
   "metadata": {
    "execution": {
     "iopub.execute_input": "2021-08-03T14:16:54.225030Z",
     "iopub.status.busy": "2021-08-03T14:16:54.223786Z",
     "iopub.status.idle": "2021-08-03T14:17:16.035224Z",
     "shell.execute_reply": "2021-08-03T14:17:16.034500Z"
    },
    "papermill": {
     "duration": 22.001578,
     "end_time": "2021-08-03T14:17:16.035420",
     "exception": false,
     "start_time": "2021-08-03T14:16:54.033842",
     "status": "completed"
    },
    "tags": []
   },
   "outputs": [],
   "source": [
    "# add sales lags for last 3 months\n",
    "train_merge = lag_feature(train_merge, [1, 2, 3], 'item_cnt_month')"
   ]
  },
  {
   "cell_type": "code",
   "execution_count": 47,
   "id": "ee6d5ee8",
   "metadata": {
    "execution": {
     "iopub.execute_input": "2021-08-03T14:17:16.204173Z",
     "iopub.status.busy": "2021-08-03T14:17:16.203580Z",
     "iopub.status.idle": "2021-08-03T14:17:16.209203Z",
     "shell.execute_reply": "2021-08-03T14:17:16.208489Z"
    },
    "papermill": {
     "duration": 0.095659,
     "end_time": "2021-08-03T14:17:16.209372",
     "exception": false,
     "start_time": "2021-08-03T14:17:16.113713",
     "status": "completed"
    },
    "tags": []
   },
   "outputs": [
    {
     "name": "stdout",
     "output_type": "stream",
     "text": [
      "<class 'pandas.core.frame.DataFrame'>\n",
      "Int64Index: 11128004 entries, 0 to 11128003\n",
      "Data columns (total 13 columns):\n",
      " #   Column                Dtype  \n",
      "---  ------                -----  \n",
      " 0   shop_id               int64  \n",
      " 1   item_id               int64  \n",
      " 2   date_block_num        int64  \n",
      " 3   item_cnt_month        float64\n",
      " 4   item_category_id      int64  \n",
      " 5   item_category_common  int64  \n",
      " 6   city_code             int64  \n",
      " 7   city_coord_1          float64\n",
      " 8   city_coord_2          float64\n",
      " 9   country_part          int64  \n",
      " 10  item_cnt_month_lag_1  float16\n",
      " 11  item_cnt_month_lag_2  float16\n",
      " 12  item_cnt_month_lag_3  float16\n",
      "dtypes: float16(3), float64(3), int64(7)\n",
      "memory usage: 997.6 MB\n"
     ]
    }
   ],
   "source": [
    "train_merge.info()"
   ]
  },
  {
   "cell_type": "code",
   "execution_count": 48,
   "id": "163c9a7c",
   "metadata": {
    "execution": {
     "iopub.execute_input": "2021-08-03T14:17:16.378074Z",
     "iopub.status.busy": "2021-08-03T14:17:16.377285Z",
     "iopub.status.idle": "2021-08-03T14:17:17.090426Z",
     "shell.execute_reply": "2021-08-03T14:17:17.089936Z"
    },
    "papermill": {
     "duration": 0.796887,
     "end_time": "2021-08-03T14:17:17.090604",
     "exception": false,
     "start_time": "2021-08-03T14:17:16.293717",
     "status": "completed"
    },
    "tags": []
   },
   "outputs": [],
   "source": [
    "# value reduction\n",
    "def value_reduction(data):\n",
    "    for column in data.columns:\n",
    "        if data[column].dtype == 'float64':\n",
    "            data[column] = data[column].astype(np.float32)\n",
    "        if (data[column].dtype == 'int64' or data[column].dtype == 'int32') and (data[column].max() < 32767 and data[column].min() > -32768) and data[column].isnull().sum()==0:\n",
    "            data[column] = data[column].astype(np.int16)\n",
    "    return data\n",
    "\n",
    "train_merge = value_reduction(train_merge)"
   ]
  },
  {
   "cell_type": "code",
   "execution_count": 49,
   "id": "5b144eb0",
   "metadata": {
    "execution": {
     "iopub.execute_input": "2021-08-03T14:17:17.255725Z",
     "iopub.status.busy": "2021-08-03T14:17:17.254313Z",
     "iopub.status.idle": "2021-08-03T14:17:42.307371Z",
     "shell.execute_reply": "2021-08-03T14:17:42.306860Z"
    },
    "papermill": {
     "duration": 25.137578,
     "end_time": "2021-08-03T14:17:42.307521",
     "exception": false,
     "start_time": "2021-08-03T14:17:17.169943",
     "status": "completed"
    },
    "tags": []
   },
   "outputs": [],
   "source": [
    "# add mean encoding for items for last 3 month\n",
    "item_id_target_mean = train_merge.groupby(['date_block_num','item_id'])['item_cnt_month'].mean().reset_index().rename(columns={\"item_cnt_month\": \"item_target_enc\"}, errors=\"raise\")\n",
    "train_merge = pd.merge(train_merge, item_id_target_mean, on=['date_block_num','item_id'], how='left')\n",
    "\n",
    "train_merge['item_target_enc'] = (train_merge['item_target_enc']\n",
    "                                .fillna(0)\n",
    "                                .astype(np.float16))\n",
    "\n",
    "train_merge = lag_feature(train_merge, [1, 2, 3], 'item_target_enc')\n",
    "train_merge.drop(['item_target_enc'], axis=1, inplace=True)"
   ]
  },
  {
   "cell_type": "code",
   "execution_count": 50,
   "id": "c6c8b60a",
   "metadata": {
    "execution": {
     "iopub.execute_input": "2021-08-03T14:17:42.478916Z",
     "iopub.status.busy": "2021-08-03T14:17:42.477685Z",
     "iopub.status.idle": "2021-08-03T14:18:15.586594Z",
     "shell.execute_reply": "2021-08-03T14:18:15.586997Z"
    },
    "papermill": {
     "duration": 33.196034,
     "end_time": "2021-08-03T14:18:15.587169",
     "exception": false,
     "start_time": "2021-08-03T14:17:42.391135",
     "status": "completed"
    },
    "tags": []
   },
   "outputs": [],
   "source": [
    "# add target encoding for item/city for last 3 months\n",
    "item_id_target_mean = train_merge.groupby(['date_block_num','item_id', 'city_code'])['item_cnt_month'].mean().reset_index().rename(columns={\n",
    "    \"item_cnt_month\": \"item_loc_target_enc\"}, errors=\"raise\")\n",
    "train_merge = pd.merge(train_merge, item_id_target_mean, on=['date_block_num','item_id', 'city_code'], how='left')\n",
    "\n",
    "train_merge['item_loc_target_enc'] = (train_merge['item_loc_target_enc']\n",
    "                                .fillna(0)\n",
    "                                .astype(np.float16))\n",
    "\n",
    "train_merge = lag_feature(train_merge, [1, 2, 3], 'item_loc_target_enc')\n",
    "train_merge.drop(['item_loc_target_enc'], axis=1, inplace=True)"
   ]
  },
  {
   "cell_type": "code",
   "execution_count": 51,
   "id": "3c662faf",
   "metadata": {
    "execution": {
     "iopub.execute_input": "2021-08-03T14:18:15.746438Z",
     "iopub.status.busy": "2021-08-03T14:18:15.745347Z",
     "iopub.status.idle": "2021-08-03T14:18:52.495555Z",
     "shell.execute_reply": "2021-08-03T14:18:52.493854Z"
    },
    "papermill": {
     "duration": 36.832866,
     "end_time": "2021-08-03T14:18:52.495749",
     "exception": false,
     "start_time": "2021-08-03T14:18:15.662883",
     "status": "completed"
    },
    "tags": []
   },
   "outputs": [],
   "source": [
    "# add target encoding for item/shop for last 3 months \n",
    "item_id_target_mean = train_merge.groupby(['date_block_num','item_id', 'shop_id'])['item_cnt_month'].mean().reset_index().rename(columns={\n",
    "    \"item_cnt_month\": \"item_shop_target_enc\"}, errors=\"raise\")\n",
    "\n",
    "train_merge = pd.merge(train_merge, item_id_target_mean, on=['date_block_num','item_id', 'shop_id'], how='left')\n",
    "\n",
    "train_merge['item_shop_target_enc'] = (train_merge['item_shop_target_enc']\n",
    "                                .fillna(0)\n",
    "                                .astype(np.float16))\n",
    "\n",
    "train_merge = lag_feature(train_merge, [1, 2, 3], 'item_shop_target_enc')\n",
    "train_merge.drop(['item_shop_target_enc'], axis=1, inplace=True)"
   ]
  },
  {
   "cell_type": "code",
   "execution_count": 52,
   "id": "c4a09d60",
   "metadata": {
    "execution": {
     "iopub.execute_input": "2021-08-03T14:18:52.767697Z",
     "iopub.status.busy": "2021-08-03T14:18:52.766864Z",
     "iopub.status.idle": "2021-08-03T14:18:55.693426Z",
     "shell.execute_reply": "2021-08-03T14:18:55.692889Z"
    },
    "papermill": {
     "duration": 3.065521,
     "end_time": "2021-08-03T14:18:55.693588",
     "exception": false,
     "start_time": "2021-08-03T14:18:52.628067",
     "status": "completed"
    },
    "tags": []
   },
   "outputs": [],
   "source": [
    "# interaction features\n",
    "first_item_block = train_merge.groupby(['item_id'])['date_block_num'].min().reset_index()\n",
    "first_item_block['item_first_interaction'] = 1\n",
    "\n",
    "first_shop_item_buy_block = train_merge[train_merge['date_block_num'] > 0].groupby(['shop_id', 'item_id'])['date_block_num'].min().reset_index()\n",
    "first_shop_item_buy_block['first_date_block_num'] = first_shop_item_buy_block['date_block_num']"
   ]
  },
  {
   "cell_type": "code",
   "execution_count": 53,
   "id": "c6f66f51",
   "metadata": {
    "execution": {
     "iopub.execute_input": "2021-08-03T14:18:55.862105Z",
     "iopub.status.busy": "2021-08-03T14:18:55.861589Z",
     "iopub.status.idle": "2021-08-03T14:19:01.850269Z",
     "shell.execute_reply": "2021-08-03T14:19:01.849695Z"
    },
    "papermill": {
     "duration": 6.076269,
     "end_time": "2021-08-03T14:19:01.850433",
     "exception": false,
     "start_time": "2021-08-03T14:18:55.774164",
     "status": "completed"
    },
    "tags": []
   },
   "outputs": [],
   "source": [
    "# merge train and new features\n",
    "train_merge = pd.merge(train_merge, first_item_block[['item_id', 'date_block_num', 'item_first_interaction']], on=['item_id', 'date_block_num'], how='left')\n",
    "train_merge = pd.merge(train_merge, first_shop_item_buy_block[['item_id', 'shop_id', 'first_date_block_num']], on=['item_id', 'shop_id'], how='left')"
   ]
  },
  {
   "cell_type": "code",
   "execution_count": 54,
   "id": "80b47182",
   "metadata": {
    "execution": {
     "iopub.execute_input": "2021-08-03T14:19:02.022817Z",
     "iopub.status.busy": "2021-08-03T14:19:02.021768Z",
     "iopub.status.idle": "2021-08-03T14:19:02.876107Z",
     "shell.execute_reply": "2021-08-03T14:19:02.875576Z"
    },
    "papermill": {
     "duration": 0.941148,
     "end_time": "2021-08-03T14:19:02.876243",
     "exception": false,
     "start_time": "2021-08-03T14:19:01.935095",
     "status": "completed"
    },
    "tags": []
   },
   "outputs": [],
   "source": [
    "# fillna and change type\n",
    "train_merge['first_date_block_num'].fillna(100, inplace=True)\n",
    "train_merge['shop_item_sold_before'] = (train_merge['first_date_block_num'] < train_merge['date_block_num']).astype('int8')\n",
    "train_merge.drop(['first_date_block_num'], axis=1, inplace=True)\n",
    "\n",
    "train_merge['item_first_interaction'].fillna(0, inplace=True)\n",
    "train_merge['shop_item_sold_before'].fillna(0, inplace=True)\n",
    " \n",
    "train_merge['item_first_interaction'] = train_merge['item_first_interaction'].astype('int8')  \n",
    "train_merge['shop_item_sold_before'] = train_merge['shop_item_sold_before'].astype('int8') "
   ]
  },
  {
   "cell_type": "code",
   "execution_count": 55,
   "id": "3f35862e",
   "metadata": {
    "execution": {
     "iopub.execute_input": "2021-08-03T14:19:03.052287Z",
     "iopub.status.busy": "2021-08-03T14:19:03.051345Z",
     "iopub.status.idle": "2021-08-03T14:19:32.320362Z",
     "shell.execute_reply": "2021-08-03T14:19:32.319387Z"
    },
    "papermill": {
     "duration": 29.358883,
     "end_time": "2021-08-03T14:19:32.320542",
     "exception": false,
     "start_time": "2021-08-03T14:19:02.961659",
     "status": "completed"
    },
    "tags": []
   },
   "outputs": [],
   "source": [
    "# add avg category for new features\n",
    "item_id_target_mean = train_merge[train_merge['item_first_interaction'] == 1].groupby(['date_block_num','item_category_id'])['item_cnt_month'].mean().reset_index().rename(columns={'item_cnt_month': 'new_item_cat_avg'}, errors='raise')\n",
    "\n",
    "train_merge = pd.merge(train_merge, item_id_target_mean, on=['date_block_num','item_category_id'], how='left')\n",
    "\n",
    "train_merge['new_item_cat_avg'] = (train_merge['new_item_cat_avg']\n",
    "                                .fillna(0)\n",
    "                                .astype(np.float16))\n",
    "\n",
    "train_merge = lag_feature(train_merge, [1, 2, 3], 'new_item_cat_avg')\n",
    "train_merge.drop(['new_item_cat_avg'], axis=1, inplace=True)"
   ]
  },
  {
   "cell_type": "code",
   "execution_count": 56,
   "id": "4ad0ac6a",
   "metadata": {
    "execution": {
     "iopub.execute_input": "2021-08-03T14:19:32.478711Z",
     "iopub.status.busy": "2021-08-03T14:19:32.477649Z",
     "iopub.status.idle": "2021-08-03T14:19:33.577521Z",
     "shell.execute_reply": "2021-08-03T14:19:33.577082Z"
    },
    "papermill": {
     "duration": 1.180823,
     "end_time": "2021-08-03T14:19:33.577644",
     "exception": false,
     "start_time": "2021-08-03T14:19:32.396821",
     "status": "completed"
    },
    "tags": []
   },
   "outputs": [
    {
     "data": {
      "text/plain": [
       "shop_id                             0\n",
       "item_id                             0\n",
       "date_block_num                      0\n",
       "item_cnt_month                      0\n",
       "item_category_id                    0\n",
       "item_category_common                0\n",
       "city_code                           0\n",
       "city_coord_1                        0\n",
       "city_coord_2                        0\n",
       "country_part                        0\n",
       "item_cnt_month_lag_1          2522543\n",
       "item_cnt_month_lag_2          3174870\n",
       "item_cnt_month_lag_3          3783240\n",
       "item_target_enc_lag_1         2522543\n",
       "item_target_enc_lag_2         3174870\n",
       "item_target_enc_lag_3         3783240\n",
       "item_loc_target_enc_lag_1     2522543\n",
       "item_loc_target_enc_lag_2     3174870\n",
       "item_loc_target_enc_lag_3     3783240\n",
       "item_shop_target_enc_lag_1    2522543\n",
       "item_shop_target_enc_lag_2    3174870\n",
       "item_shop_target_enc_lag_3    3783240\n",
       "item_first_interaction              0\n",
       "shop_item_sold_before               0\n",
       "new_item_cat_avg_lag_1        2522543\n",
       "new_item_cat_avg_lag_2        3174870\n",
       "new_item_cat_avg_lag_3        3783240\n",
       "dtype: int64"
      ]
     },
     "execution_count": 56,
     "metadata": {},
     "output_type": "execute_result"
    }
   ],
   "source": [
    "train_merge.isna().sum()"
   ]
  },
  {
   "cell_type": "code",
   "execution_count": 57,
   "id": "0f566035",
   "metadata": {
    "execution": {
     "iopub.execute_input": "2021-08-03T14:19:33.734307Z",
     "iopub.status.busy": "2021-08-03T14:19:33.733308Z",
     "iopub.status.idle": "2021-08-03T14:19:36.277505Z",
     "shell.execute_reply": "2021-08-03T14:19:36.277004Z"
    },
    "papermill": {
     "duration": 2.623779,
     "end_time": "2021-08-03T14:19:36.277632",
     "exception": false,
     "start_time": "2021-08-03T14:19:33.653853",
     "status": "completed"
    },
    "tags": []
   },
   "outputs": [],
   "source": [
    "# fill Nan values to 0\n",
    "train_merge.fillna(0, inplace=True)\n",
    "# take data only after 3 since the most lag month interval is 3\n",
    "train_merge = train_merge[train_merge['date_block_num'] > 2]"
   ]
  },
  {
   "cell_type": "code",
   "execution_count": 58,
   "id": "fa049b74",
   "metadata": {
    "execution": {
     "iopub.execute_input": "2021-08-03T14:19:36.435378Z",
     "iopub.status.busy": "2021-08-03T14:19:36.434502Z",
     "iopub.status.idle": "2021-08-03T14:19:37.359302Z",
     "shell.execute_reply": "2021-08-03T14:19:37.358800Z"
    },
    "papermill": {
     "duration": 1.004791,
     "end_time": "2021-08-03T14:19:37.359428",
     "exception": false,
     "start_time": "2021-08-03T14:19:36.354637",
     "status": "completed"
    },
    "tags": []
   },
   "outputs": [],
   "source": [
    "# save finished dataset to pickle\n",
    "train_merge.to_pickle('train_merge.pkl')"
   ]
  },
  {
   "cell_type": "code",
   "execution_count": 59,
   "id": "5d14b0e0",
   "metadata": {
    "execution": {
     "iopub.execute_input": "2021-08-03T14:19:37.546649Z",
     "iopub.status.busy": "2021-08-03T14:19:37.545630Z",
     "iopub.status.idle": "2021-08-03T14:19:40.613894Z",
     "shell.execute_reply": "2021-08-03T14:19:40.613082Z"
    },
    "papermill": {
     "duration": 3.176244,
     "end_time": "2021-08-03T14:19:40.614050",
     "exception": false,
     "start_time": "2021-08-03T14:19:37.437806",
     "status": "completed"
    },
    "tags": []
   },
   "outputs": [
    {
     "name": "stdout",
     "output_type": "stream",
     "text": [
      "Shape X_train: (9552837, 26)\n",
      "\n",
      "Shape y_train: (9552837,)\n",
      "\n",
      "Shape X_valid: (238172, 26)\n",
      "\n",
      "Shape y_valid: (238172,)\n",
      "\n",
      "Shape X_test: (214200, 26)\n"
     ]
    }
   ],
   "source": [
    "# split dataset \n",
    "X_train = train_merge[train_merge.date_block_num < 33].drop(['item_cnt_month'], axis=1)\n",
    "y_train = train_merge[train_merge.date_block_num < 33]['item_cnt_month']\n",
    "X_valid = train_merge[train_merge.date_block_num == 33].drop(['item_cnt_month'], axis=1)\n",
    "y_valid = train_merge[train_merge.date_block_num == 33]['item_cnt_month']\n",
    "X_test = train_merge[train_merge.date_block_num == 34].drop(['item_cnt_month'], axis=1)\n",
    "print('Shape X_train: {}'.format(X_train.shape))\n",
    "print()\n",
    "print('Shape y_train: {}'.format(y_train.shape))\n",
    "print()\n",
    "print('Shape X_valid: {}'.format(X_valid.shape))\n",
    "print()\n",
    "print('Shape y_valid: {}'.format(y_valid.shape))\n",
    "print()\n",
    "print('Shape X_test: {}'.format(X_test.shape))"
   ]
  },
  {
   "cell_type": "markdown",
   "id": "ed0b8ced",
   "metadata": {
    "papermill": {
     "duration": 0.078053,
     "end_time": "2021-08-03T14:19:40.769615",
     "exception": false,
     "start_time": "2021-08-03T14:19:40.691562",
     "status": "completed"
    },
    "tags": []
   },
   "source": [
    "# **Fit models**"
   ]
  },
  {
   "cell_type": "markdown",
   "id": "77600e2a",
   "metadata": {
    "papermill": {
     "duration": 0.077712,
     "end_time": "2021-08-03T14:19:40.935994",
     "exception": false,
     "start_time": "2021-08-03T14:19:40.858282",
     "status": "completed"
    },
    "tags": []
   },
   "source": [
    "**Catboost**"
   ]
  },
  {
   "cell_type": "code",
   "execution_count": 60,
   "id": "1f4182fd",
   "metadata": {
    "execution": {
     "iopub.execute_input": "2021-08-03T14:19:41.100633Z",
     "iopub.status.busy": "2021-08-03T14:19:41.099793Z",
     "iopub.status.idle": "2021-08-03T14:19:41.101921Z",
     "shell.execute_reply": "2021-08-03T14:19:41.102323Z"
    },
    "papermill": {
     "duration": 0.089142,
     "end_time": "2021-08-03T14:19:41.102490",
     "exception": false,
     "start_time": "2021-08-03T14:19:41.013348",
     "status": "completed"
    },
    "tags": []
   },
   "outputs": [],
   "source": [
    "cat_features = ['country_part', \n",
    "                'item_category_common',\n",
    "                'item_category_id', \n",
    "                'city_code']\n",
    "\n",
    "catboost = CatBoostRegressor(random_state=1, \n",
    "                             iterations=2000, verbose=200, depth = 4, \n",
    "                             learning_rate=0.01, l2_leaf_reg=7,\n",
    "                             max_leaves = 2047, min_data_in_leaf = 1,\n",
    "                             subsample = 0.7,\n",
    "                             loss_function='RMSE', eval_metric='RMSE',\n",
    "                             task_type='GPU',early_stopping_rounds=30,\n",
    "                             grow_policy='Lossguide', bootstrap_type='Poisson',\n",
    "                            cat_features=cat_features)"
   ]
  },
  {
   "cell_type": "code",
   "execution_count": 61,
   "id": "dabc500b",
   "metadata": {
    "execution": {
     "iopub.execute_input": "2021-08-03T14:22:10.952310Z",
     "iopub.status.busy": "2021-08-03T14:21:16.209281Z",
     "iopub.status.idle": "2021-08-03T14:26:00.366048Z",
     "shell.execute_reply": "2021-08-03T14:26:00.367100Z"
    },
    "papermill": {
     "duration": 379.187998,
     "end_time": "2021-08-03T14:26:00.367326",
     "exception": false,
     "start_time": "2021-08-03T14:19:41.179328",
     "status": "completed"
    },
    "tags": []
   },
   "outputs": [
    {
     "name": "stdout",
     "output_type": "stream",
     "text": [
      "0:\tlearn: 1.4678309\ttotal: 68ms\tremaining: 2m 15s\n",
      "200:\tlearn: 1.1389988\ttotal: 9.45s\tremaining: 1m 24s\n",
      "400:\tlearn: 1.1088690\ttotal: 19s\tremaining: 1m 15s\n",
      "600:\tlearn: 1.0987080\ttotal: 28.6s\tremaining: 1m 6s\n",
      "800:\tlearn: 1.0905264\ttotal: 39s\tremaining: 58.4s\n",
      "1000:\tlearn: 1.0843354\ttotal: 48.5s\tremaining: 48.4s\n",
      "1200:\tlearn: 1.0795526\ttotal: 57.9s\tremaining: 38.5s\n",
      "1400:\tlearn: 1.0755754\ttotal: 1m 7s\tremaining: 28.7s\n",
      "1600:\tlearn: 1.0719159\ttotal: 1m 16s\tremaining: 19.1s\n",
      "1800:\tlearn: 1.0690616\ttotal: 1m 25s\tremaining: 9.48s\n",
      "1999:\tlearn: 1.0664707\ttotal: 1m 35s\tremaining: 0us\n"
     ]
    },
    {
     "data": {
      "text/plain": [
       "<catboost.core.CatBoostRegressor at 0x7fa93a01e290>"
      ]
     },
     "execution_count": 61,
     "metadata": {},
     "output_type": "execute_result"
    }
   ],
   "source": [
    "catboost.fit(X_train, y_train)"
   ]
  },
  {
   "cell_type": "code",
   "execution_count": 62,
   "id": "2a46f974",
   "metadata": {
    "execution": {
     "iopub.execute_input": "2021-08-03T14:26:00.634473Z",
     "iopub.status.busy": "2021-08-03T14:26:00.633796Z",
     "iopub.status.idle": "2021-08-03T14:26:00.639245Z",
     "shell.execute_reply": "2021-08-03T14:26:00.640158Z"
    },
    "papermill": {
     "duration": 0.143025,
     "end_time": "2021-08-03T14:26:00.640336",
     "exception": false,
     "start_time": "2021-08-03T14:26:00.497311",
     "status": "completed"
    },
    "tags": []
   },
   "outputs": [],
   "source": [
    "# save catboost model\n",
    "pickle.dump(catboost, open('catboost.sav', 'wb'))"
   ]
  },
  {
   "cell_type": "code",
   "execution_count": 63,
   "id": "ebccf59c",
   "metadata": {
    "execution": {
     "iopub.execute_input": "2021-08-03T14:28:17.200157Z",
     "iopub.status.busy": "2021-08-03T14:28:12.655108Z",
     "iopub.status.idle": "2021-08-03T14:33:53.288714Z",
     "shell.execute_reply": "2021-08-03T14:33:53.289377Z"
    },
    "papermill": {
     "duration": 472.518784,
     "end_time": "2021-08-03T14:33:53.289602",
     "exception": false,
     "start_time": "2021-08-03T14:26:00.770818",
     "status": "completed"
    },
    "tags": []
   },
   "outputs": [
    {
     "name": "stdout",
     "output_type": "stream",
     "text": [
      "Train rmse for Catboost: 1.066154356973836\n",
      "Validation rmse for Catboost: 1.1238282093641259\n"
     ]
    }
   ],
   "source": [
    "predict_cb_train = catboost.predict(X_train)\n",
    "predict_cb_valid = catboost.predict(X_valid)\n",
    "predict_cb_test = catboost.predict(X_test)\n",
    "print('Train rmse for Catboost:', np.sqrt(mean_squared_error(y_train, predict_cb_train)))\n",
    "print('Validation rmse for Catboost:', np.sqrt(mean_squared_error(y_valid, predict_cb_valid)))"
   ]
  },
  {
   "cell_type": "markdown",
   "id": "8a600558",
   "metadata": {
    "papermill": {
     "duration": 0.084885,
     "end_time": "2021-08-03T14:33:53.462539",
     "exception": false,
     "start_time": "2021-08-03T14:33:53.377654",
     "status": "completed"
    },
    "tags": []
   },
   "source": [
    "**LinearRegression**"
   ]
  },
  {
   "cell_type": "code",
   "execution_count": 64,
   "id": "7c93b2d9",
   "metadata": {
    "execution": {
     "iopub.execute_input": "2021-08-03T14:33:53.647017Z",
     "iopub.status.busy": "2021-08-03T14:33:53.646101Z",
     "iopub.status.idle": "2021-08-03T14:34:02.551310Z",
     "shell.execute_reply": "2021-08-03T14:34:02.550348Z"
    },
    "papermill": {
     "duration": 9.001055,
     "end_time": "2021-08-03T14:34:02.551454",
     "exception": false,
     "start_time": "2021-08-03T14:33:53.550399",
     "status": "completed"
    },
    "tags": []
   },
   "outputs": [
    {
     "data": {
      "text/plain": [
       "LinearRegression()"
      ]
     },
     "execution_count": 64,
     "metadata": {},
     "output_type": "execute_result"
    }
   ],
   "source": [
    "lr_features = ['item_target_enc_lag_1', 'item_target_enc_lag_2',\n",
    "              'item_loc_target_enc_lag_1', 'item_loc_target_enc_lag_2', 'item_loc_target_enc_lag_3', \n",
    "               'item_cnt_month_lag_1', 'item_cnt_month_lag_2', 'item_cnt_month_lag_3']\n",
    "lr_train = X_train[lr_features]\n",
    "lr_val = X_valid[lr_features]\n",
    "lr_test = X_test[lr_features]\n",
    "\n",
    "\n",
    "lr_scaler = MinMaxScaler()\n",
    "lr_scaler.fit(lr_train)\n",
    "lr_train = lr_scaler.transform(lr_train)\n",
    "lr_valid = lr_scaler.transform(lr_val)\n",
    "lr_test = lr_scaler.transform(lr_test)\n",
    "\n",
    "lr_level1 = LinearRegression()\n",
    "lr_level1.fit(lr_train, y_train)"
   ]
  },
  {
   "cell_type": "code",
   "execution_count": 65,
   "id": "6c965a46",
   "metadata": {
    "execution": {
     "iopub.execute_input": "2021-08-03T14:34:02.719258Z",
     "iopub.status.busy": "2021-08-03T14:34:02.718710Z",
     "iopub.status.idle": "2021-08-03T14:34:02.721660Z",
     "shell.execute_reply": "2021-08-03T14:34:02.721190Z"
    },
    "papermill": {
     "duration": 0.088179,
     "end_time": "2021-08-03T14:34:02.721774",
     "exception": false,
     "start_time": "2021-08-03T14:34:02.633595",
     "status": "completed"
    },
    "tags": []
   },
   "outputs": [],
   "source": [
    "# save linear regression model\n",
    "pickle.dump(lr_level1, open('lr_level1.sav', 'wb'))"
   ]
  },
  {
   "cell_type": "code",
   "execution_count": 66,
   "id": "c9360bb8",
   "metadata": {
    "execution": {
     "iopub.execute_input": "2021-08-03T14:34:02.889999Z",
     "iopub.status.busy": "2021-08-03T14:34:02.889237Z",
     "iopub.status.idle": "2021-08-03T14:34:03.849273Z",
     "shell.execute_reply": "2021-08-03T14:34:03.849973Z"
    },
    "papermill": {
     "duration": 1.047012,
     "end_time": "2021-08-03T14:34:03.850201",
     "exception": false,
     "start_time": "2021-08-03T14:34:02.803189",
     "status": "completed"
    },
    "tags": []
   },
   "outputs": [
    {
     "name": "stdout",
     "output_type": "stream",
     "text": [
      "Train rmse for LinearRegression: 1.1768253\n",
      "Validation rmse for LinearRegression: 1.197905\n"
     ]
    }
   ],
   "source": [
    "predict_lr_train = lr_level1.predict(lr_train)\n",
    "predict_lr_valid = lr_level1.predict(lr_valid)\n",
    "predict_lr_test = lr_level1.predict(lr_test)\n",
    "print('Train rmse for LinearRegression:', np.sqrt(mean_squared_error(y_train, predict_lr_train)))\n",
    "print('Validation rmse for LinearRegression:', np.sqrt(mean_squared_error(y_valid, predict_lr_valid)))"
   ]
  },
  {
   "cell_type": "markdown",
   "id": "38ae0d8a",
   "metadata": {
    "papermill": {
     "duration": 0.082354,
     "end_time": "2021-08-03T14:34:04.044039",
     "exception": false,
     "start_time": "2021-08-03T14:34:03.961685",
     "status": "completed"
    },
    "tags": []
   },
   "source": [
    "**LightGBM**"
   ]
  },
  {
   "cell_type": "code",
   "execution_count": 67,
   "id": "43d250dd",
   "metadata": {
    "execution": {
     "iopub.execute_input": "2021-08-03T14:34:04.214731Z",
     "iopub.status.busy": "2021-08-03T14:34:04.214082Z",
     "iopub.status.idle": "2021-08-03T14:39:02.132570Z",
     "shell.execute_reply": "2021-08-03T14:39:02.131635Z"
    },
    "papermill": {
     "duration": 298.00665,
     "end_time": "2021-08-03T14:39:02.132724",
     "exception": false,
     "start_time": "2021-08-03T14:34:04.126074",
     "status": "completed"
    },
    "tags": []
   },
   "outputs": [
    {
     "name": "stderr",
     "output_type": "stream",
     "text": [
      "/opt/conda/lib/python3.7/site-packages/lightgbm/engine.py:148: UserWarning: Found `num_rounds` in params. Will use it instead of argument\n",
      "  _log_warning(\"Found `{}` in params. Will use it instead of argument\".format(alias))\n",
      "/opt/conda/lib/python3.7/site-packages/lightgbm/engine.py:153: UserWarning: Found `early_stopping_rounds` in params. Will use it instead of argument\n",
      "  _log_warning(\"Found `{}` in params. Will use it instead of argument\".format(alias))\n",
      "/opt/conda/lib/python3.7/site-packages/lightgbm/basic.py:1706: UserWarning: categorical_feature in Dataset is overridden.\n",
      "New categorical_feature is ['city_code', 'country_part', 'item_category_common', 'item_category_id']\n",
      "  'New categorical_feature is {}'.format(sorted(list(categorical_feature))))\n"
     ]
    },
    {
     "name": "stdout",
     "output_type": "stream",
     "text": [
      "[LightGBM] [Warning] Auto-choosing col-wise multi-threading, the overhead of testing was 3.200837 seconds.\n",
      "You can set `force_col_wise=true` to remove the overhead.\n",
      "[LightGBM] [Info] Total Bins 2997\n",
      "[LightGBM] [Info] Number of data points in the train set: 9552837, number of used features: 26\n"
     ]
    },
    {
     "name": "stderr",
     "output_type": "stream",
     "text": [
      "/opt/conda/lib/python3.7/site-packages/lightgbm/basic.py:1433: UserWarning: Overriding the parameters from Reference Dataset.\n",
      "  _log_warning('Overriding the parameters from Reference Dataset.')\n",
      "/opt/conda/lib/python3.7/site-packages/lightgbm/basic.py:1245: UserWarning: categorical_column in param dict is overridden.\n",
      "  _log_warning('{} in param dict is overridden.'.format(cat_alias))\n"
     ]
    },
    {
     "name": "stdout",
     "output_type": "stream",
     "text": [
      "[LightGBM] [Info] Start training from score 0.306574\n",
      "Training until validation scores don't improve for 30 rounds\n",
      "[50]\ttraining's rmse: 1.20543\tvalid_1's rmse: 1.21775\n",
      "[100]\ttraining's rmse: 1.06151\tvalid_1's rmse: 1.15071\n",
      "[150]\ttraining's rmse: 0.983443\tvalid_1's rmse: 1.13379\n",
      "Early stopping, best iteration is:\n",
      "[151]\ttraining's rmse: 0.982032\tvalid_1's rmse: 1.13373\n"
     ]
    }
   ],
   "source": [
    "# define build model function\n",
    "def build_lgb_model(params, X_train, X_val, y_train, y_val, cat_features):\n",
    "    lgb_train = lgb.Dataset(X_train, y_train)\n",
    "    lgb_val = lgb.Dataset(X_val, y_val)\n",
    "    model = lgb.train(params=params, train_set=lgb_train, valid_sets=(lgb_train, lgb_val), verbose_eval=50,\n",
    "                     categorical_feature=cat_features)\n",
    "    return model\n",
    "\n",
    "# define parameters\n",
    "params = {\n",
    "    'objective': 'rmse',\n",
    "    'metric': 'rmse',\n",
    "    'num_leaves': 1023,\n",
    "    'min_data_in_leaf':10,\n",
    "    'feature_fraction': 0.7,\n",
    "    'learning_rate': 0.01,\n",
    "    'num_rounds': 2000,\n",
    "    'early_stopping_rounds': 30,\n",
    "    'seed': 1\n",
    "}\n",
    "# fit model\n",
    "lgb_model = build_lgb_model(params, X_train, X_valid, y_train, y_valid, cat_features)"
   ]
  },
  {
   "cell_type": "code",
   "execution_count": 68,
   "id": "086d58d3",
   "metadata": {
    "execution": {
     "iopub.execute_input": "2021-08-03T14:39:02.312005Z",
     "iopub.status.busy": "2021-08-03T14:39:02.311269Z",
     "iopub.status.idle": "2021-08-03T14:39:03.185786Z",
     "shell.execute_reply": "2021-08-03T14:39:03.184791Z"
    },
    "papermill": {
     "duration": 0.968911,
     "end_time": "2021-08-03T14:39:03.185943",
     "exception": false,
     "start_time": "2021-08-03T14:39:02.217032",
     "status": "completed"
    },
    "tags": []
   },
   "outputs": [],
   "source": [
    "# save lightgbm model\n",
    "pickle.dump(lgb_model, open('lgb_1.sav', 'wb'))"
   ]
  },
  {
   "cell_type": "code",
   "execution_count": 69,
   "id": "2c7c15d0",
   "metadata": {
    "execution": {
     "iopub.execute_input": "2021-08-03T14:39:03.361818Z",
     "iopub.status.busy": "2021-08-03T14:39:03.360593Z",
     "iopub.status.idle": "2021-08-03T14:41:30.001123Z",
     "shell.execute_reply": "2021-08-03T14:41:30.001820Z"
    },
    "papermill": {
     "duration": 146.730954,
     "end_time": "2021-08-03T14:41:30.002036",
     "exception": false,
     "start_time": "2021-08-03T14:39:03.271082",
     "status": "completed"
    },
    "tags": []
   },
   "outputs": [
    {
     "name": "stdout",
     "output_type": "stream",
     "text": [
      "Train rmse for LightGBM: 0.9820316648492755\n",
      "Validation rmse for LightGBM: 1.1337275307720496\n"
     ]
    }
   ],
   "source": [
    "predict_lgb_train = lgb_model.predict(X_train)\n",
    "predict_lgb_valid = lgb_model.predict(X_valid)\n",
    "predict_lgb_test = lgb_model.predict(X_test)\n",
    "print('Train rmse for LightGBM:', np.sqrt(mean_squared_error(y_train, predict_lgb_train)))\n",
    "print('Validation rmse for LightGBM:', np.sqrt(mean_squared_error(y_valid, predict_lgb_valid)))"
   ]
  },
  {
   "cell_type": "markdown",
   "id": "f3834dd9",
   "metadata": {
    "papermill": {
     "duration": 0.085859,
     "end_time": "2021-08-03T14:41:30.173930",
     "exception": false,
     "start_time": "2021-08-03T14:41:30.088071",
     "status": "completed"
    },
    "tags": []
   },
   "source": [
    "**RandomForest**"
   ]
  },
  {
   "cell_type": "code",
   "execution_count": 70,
   "id": "26557610",
   "metadata": {
    "execution": {
     "iopub.execute_input": "2021-08-03T14:41:30.347046Z",
     "iopub.status.busy": "2021-08-03T14:41:30.346442Z",
     "iopub.status.idle": "2021-08-03T14:41:30.350498Z",
     "shell.execute_reply": "2021-08-03T14:41:30.350085Z"
    },
    "papermill": {
     "duration": 0.09214,
     "end_time": "2021-08-03T14:41:30.350629",
     "exception": false,
     "start_time": "2021-08-03T14:41:30.258489",
     "status": "completed"
    },
    "tags": []
   },
   "outputs": [],
   "source": [
    "rf = RandomForestRegressor(random_state = 1, max_depth=10, max_features='sqrt', min_samples_leaf=7,\n",
    "                      min_samples_split=11, n_estimators=75)"
   ]
  },
  {
   "cell_type": "code",
   "execution_count": 71,
   "id": "396d624f",
   "metadata": {
    "execution": {
     "iopub.execute_input": "2021-08-03T14:41:30.526705Z",
     "iopub.status.busy": "2021-08-03T14:41:30.525512Z",
     "iopub.status.idle": "2021-08-03T15:01:01.129544Z",
     "shell.execute_reply": "2021-08-03T15:01:01.129981Z"
    },
    "papermill": {
     "duration": 1170.694306,
     "end_time": "2021-08-03T15:01:01.130144",
     "exception": false,
     "start_time": "2021-08-03T14:41:30.435838",
     "status": "completed"
    },
    "tags": []
   },
   "outputs": [
    {
     "data": {
      "text/plain": [
       "RandomForestRegressor(max_depth=10, max_features='sqrt', min_samples_leaf=7,\n",
       "                      min_samples_split=11, n_estimators=75, random_state=1)"
      ]
     },
     "execution_count": 71,
     "metadata": {},
     "output_type": "execute_result"
    }
   ],
   "source": [
    "rf.fit(X_train, y_train)"
   ]
  },
  {
   "cell_type": "code",
   "execution_count": 72,
   "id": "b2105a5f",
   "metadata": {
    "execution": {
     "iopub.execute_input": "2021-08-03T15:01:01.306174Z",
     "iopub.status.busy": "2021-08-03T15:01:01.305279Z",
     "iopub.status.idle": "2021-08-03T15:01:01.317938Z",
     "shell.execute_reply": "2021-08-03T15:01:01.317500Z"
    },
    "papermill": {
     "duration": 0.101981,
     "end_time": "2021-08-03T15:01:01.318050",
     "exception": false,
     "start_time": "2021-08-03T15:01:01.216069",
     "status": "completed"
    },
    "tags": []
   },
   "outputs": [],
   "source": [
    "pickle.dump(rf, open('rf.sav', 'wb'))"
   ]
  },
  {
   "cell_type": "code",
   "execution_count": 73,
   "id": "df5960ff",
   "metadata": {
    "execution": {
     "iopub.execute_input": "2021-08-03T15:01:01.497103Z",
     "iopub.status.busy": "2021-08-03T15:01:01.496042Z",
     "iopub.status.idle": "2021-08-03T15:01:45.400607Z",
     "shell.execute_reply": "2021-08-03T15:01:45.401256Z"
    },
    "papermill": {
     "duration": 43.997728,
     "end_time": "2021-08-03T15:01:45.401447",
     "exception": false,
     "start_time": "2021-08-03T15:01:01.403719",
     "status": "completed"
    },
    "tags": []
   },
   "outputs": [
    {
     "name": "stdout",
     "output_type": "stream",
     "text": [
      "Train rmse for RandomForest: 1.0858039000940345\n",
      "Validation rmse for RandomForest: 1.1336352673662384\n"
     ]
    }
   ],
   "source": [
    "predict_rf_train = rf.predict(X_train)\n",
    "predict_rf_valid = rf.predict(X_valid)\n",
    "predict_rf_test = rf.predict(X_test)\n",
    "print('Train rmse for RandomForest:', np.sqrt(mean_squared_error(y_train, predict_rf_train)))\n",
    "print('Validation rmse for RandomForest:', np.sqrt(mean_squared_error(y_valid, predict_rf_valid)))"
   ]
  },
  {
   "cell_type": "markdown",
   "id": "649cc633",
   "metadata": {
    "papermill": {
     "duration": 0.093567,
     "end_time": "2021-08-03T15:01:45.589355",
     "exception": false,
     "start_time": "2021-08-03T15:01:45.495788",
     "status": "completed"
    },
    "tags": []
   },
   "source": [
    "**Ensemble model**"
   ]
  },
  {
   "cell_type": "markdown",
   "id": "3a8d9b01",
   "metadata": {
    "papermill": {
     "duration": 0.092599,
     "end_time": "2021-08-03T15:01:45.774962",
     "exception": false,
     "start_time": "2021-08-03T15:01:45.682363",
     "status": "completed"
    },
    "tags": []
   },
   "source": [
    "Ensemble architecture:\n",
    "1st level:\n",
    "* Catboost\n",
    "* XGBM\n",
    "* Random forest\n",
    "* Linear Regression\n",
    "\n",
    "2nd level:\n",
    "* Linear Regression"
   ]
  },
  {
   "cell_type": "code",
   "execution_count": 74,
   "id": "3ce28f25",
   "metadata": {
    "execution": {
     "iopub.execute_input": "2021-08-03T15:01:46.005006Z",
     "iopub.status.busy": "2021-08-03T15:01:46.003954Z",
     "iopub.status.idle": "2021-08-03T15:01:46.019248Z",
     "shell.execute_reply": "2021-08-03T15:01:46.018849Z"
    },
    "papermill": {
     "duration": 0.112875,
     "end_time": "2021-08-03T15:01:46.019357",
     "exception": false,
     "start_time": "2021-08-03T15:01:45.906482",
     "status": "completed"
    },
    "tags": []
   },
   "outputs": [
    {
     "data": {
      "text/html": [
       "<div>\n",
       "<style scoped>\n",
       "    .dataframe tbody tr th:only-of-type {\n",
       "        vertical-align: middle;\n",
       "    }\n",
       "\n",
       "    .dataframe tbody tr th {\n",
       "        vertical-align: top;\n",
       "    }\n",
       "\n",
       "    .dataframe thead th {\n",
       "        text-align: right;\n",
       "    }\n",
       "</style>\n",
       "<table border=\"1\" class=\"dataframe\">\n",
       "  <thead>\n",
       "    <tr style=\"text-align: right;\">\n",
       "      <th></th>\n",
       "      <th>catboost</th>\n",
       "      <th>lightgbm</th>\n",
       "      <th>random_forest</th>\n",
       "      <th>linear_regression</th>\n",
       "      <th>label</th>\n",
       "    </tr>\n",
       "  </thead>\n",
       "  <tbody>\n",
       "    <tr>\n",
       "      <th>0</th>\n",
       "      <td>0.008289</td>\n",
       "      <td>0.100555</td>\n",
       "      <td>0.056775</td>\n",
       "      <td>0.085277</td>\n",
       "      <td>1.0</td>\n",
       "    </tr>\n",
       "    <tr>\n",
       "      <th>1</th>\n",
       "      <td>1.000518</td>\n",
       "      <td>0.701159</td>\n",
       "      <td>0.982985</td>\n",
       "      <td>0.902108</td>\n",
       "      <td>1.0</td>\n",
       "    </tr>\n",
       "    <tr>\n",
       "      <th>2</th>\n",
       "      <td>0.568380</td>\n",
       "      <td>0.436898</td>\n",
       "      <td>0.572419</td>\n",
       "      <td>0.768765</td>\n",
       "      <td>2.0</td>\n",
       "    </tr>\n",
       "    <tr>\n",
       "      <th>3</th>\n",
       "      <td>0.125713</td>\n",
       "      <td>0.180264</td>\n",
       "      <td>0.154142</td>\n",
       "      <td>0.112127</td>\n",
       "      <td>1.0</td>\n",
       "    </tr>\n",
       "    <tr>\n",
       "      <th>4</th>\n",
       "      <td>0.428278</td>\n",
       "      <td>0.585017</td>\n",
       "      <td>0.545204</td>\n",
       "      <td>0.173981</td>\n",
       "      <td>1.0</td>\n",
       "    </tr>\n",
       "  </tbody>\n",
       "</table>\n",
       "</div>"
      ],
      "text/plain": [
       "   catboost  lightgbm  random_forest  linear_regression  label\n",
       "0  0.008289  0.100555       0.056775           0.085277    1.0\n",
       "1  1.000518  0.701159       0.982985           0.902108    1.0\n",
       "2  0.568380  0.436898       0.572419           0.768765    2.0\n",
       "3  0.125713  0.180264       0.154142           0.112127    1.0\n",
       "4  0.428278  0.585017       0.545204           0.173981    1.0"
      ]
     },
     "execution_count": 74,
     "metadata": {},
     "output_type": "execute_result"
    }
   ],
   "source": [
    "# dataset that will be the train set of the ensemble model\n",
    "first_level = pd.DataFrame(predict_cb_valid, columns=['catboost'])\n",
    "first_level['lightgbm'] = predict_lgb_valid\n",
    "first_level['random_forest'] = predict_rf_valid\n",
    "first_level['linear_regression'] = predict_lr_valid\n",
    "first_level['label'] = y_valid.values\n",
    "first_level.head(5)"
   ]
  },
  {
   "cell_type": "code",
   "execution_count": 75,
   "id": "46488b93",
   "metadata": {
    "execution": {
     "iopub.execute_input": "2021-08-03T15:01:46.216191Z",
     "iopub.status.busy": "2021-08-03T15:01:46.215215Z",
     "iopub.status.idle": "2021-08-03T15:01:46.227005Z",
     "shell.execute_reply": "2021-08-03T15:01:46.226534Z"
    },
    "papermill": {
     "duration": 0.109584,
     "end_time": "2021-08-03T15:01:46.227151",
     "exception": false,
     "start_time": "2021-08-03T15:01:46.117567",
     "status": "completed"
    },
    "tags": []
   },
   "outputs": [
    {
     "data": {
      "text/html": [
       "<div>\n",
       "<style scoped>\n",
       "    .dataframe tbody tr th:only-of-type {\n",
       "        vertical-align: middle;\n",
       "    }\n",
       "\n",
       "    .dataframe tbody tr th {\n",
       "        vertical-align: top;\n",
       "    }\n",
       "\n",
       "    .dataframe thead th {\n",
       "        text-align: right;\n",
       "    }\n",
       "</style>\n",
       "<table border=\"1\" class=\"dataframe\">\n",
       "  <thead>\n",
       "    <tr style=\"text-align: right;\">\n",
       "      <th></th>\n",
       "      <th>catboost</th>\n",
       "      <th>lightgbm</th>\n",
       "      <th>random_forest</th>\n",
       "      <th>linear_regression</th>\n",
       "    </tr>\n",
       "  </thead>\n",
       "  <tbody>\n",
       "    <tr>\n",
       "      <th>0</th>\n",
       "      <td>0.392435</td>\n",
       "      <td>0.497160</td>\n",
       "      <td>0.506160</td>\n",
       "      <td>0.410781</td>\n",
       "    </tr>\n",
       "    <tr>\n",
       "      <th>1</th>\n",
       "      <td>0.318272</td>\n",
       "      <td>0.290975</td>\n",
       "      <td>0.228292</td>\n",
       "      <td>0.085470</td>\n",
       "    </tr>\n",
       "    <tr>\n",
       "      <th>2</th>\n",
       "      <td>0.864805</td>\n",
       "      <td>0.820538</td>\n",
       "      <td>1.058583</td>\n",
       "      <td>0.973902</td>\n",
       "    </tr>\n",
       "    <tr>\n",
       "      <th>3</th>\n",
       "      <td>0.310515</td>\n",
       "      <td>0.396488</td>\n",
       "      <td>0.388645</td>\n",
       "      <td>0.211888</td>\n",
       "    </tr>\n",
       "    <tr>\n",
       "      <th>4</th>\n",
       "      <td>4.584531</td>\n",
       "      <td>1.640624</td>\n",
       "      <td>1.908433</td>\n",
       "      <td>0.085470</td>\n",
       "    </tr>\n",
       "  </tbody>\n",
       "</table>\n",
       "</div>"
      ],
      "text/plain": [
       "   catboost  lightgbm  random_forest  linear_regression\n",
       "0  0.392435  0.497160       0.506160           0.410781\n",
       "1  0.318272  0.290975       0.228292           0.085470\n",
       "2  0.864805  0.820538       1.058583           0.973902\n",
       "3  0.310515  0.396488       0.388645           0.211888\n",
       "4  4.584531  1.640624       1.908433           0.085470"
      ]
     },
     "execution_count": 75,
     "metadata": {},
     "output_type": "execute_result"
    }
   ],
   "source": [
    "# dataset that will be the test set of the ensemble model\n",
    "first_level_test = pd.DataFrame(predict_cb_test, columns=['catboost'])\n",
    "first_level_test['lightgbm'] = predict_lgb_test\n",
    "first_level_test['random_forest'] = predict_rf_test\n",
    "first_level_test['linear_regression'] = predict_lr_test\n",
    "first_level_test.head()"
   ]
  },
  {
   "cell_type": "code",
   "execution_count": 76,
   "id": "0d0d92cd",
   "metadata": {
    "execution": {
     "iopub.execute_input": "2021-08-03T15:01:46.423234Z",
     "iopub.status.busy": "2021-08-03T15:01:46.422015Z",
     "iopub.status.idle": "2021-08-03T15:01:46.424382Z",
     "shell.execute_reply": "2021-08-03T15:01:46.424820Z"
    },
    "papermill": {
     "duration": 0.099918,
     "end_time": "2021-08-03T15:01:46.424945",
     "exception": false,
     "start_time": "2021-08-03T15:01:46.325027",
     "status": "completed"
    },
    "tags": []
   },
   "outputs": [],
   "source": [
    "meta_model = LinearRegression(n_jobs=-1)"
   ]
  },
  {
   "cell_type": "code",
   "execution_count": 77,
   "id": "82138313",
   "metadata": {
    "execution": {
     "iopub.execute_input": "2021-08-03T15:01:46.615917Z",
     "iopub.status.busy": "2021-08-03T15:01:46.614323Z",
     "iopub.status.idle": "2021-08-03T15:01:46.621033Z",
     "shell.execute_reply": "2021-08-03T15:01:46.621519Z"
    },
    "papermill": {
     "duration": 0.10475,
     "end_time": "2021-08-03T15:01:46.621675",
     "exception": false,
     "start_time": "2021-08-03T15:01:46.516925",
     "status": "completed"
    },
    "tags": []
   },
   "outputs": [],
   "source": [
    "X_first_level = first_level.drop('label', axis=1)\n",
    "y_first_level = first_level['label']"
   ]
  },
  {
   "cell_type": "code",
   "execution_count": 78,
   "id": "7688d6f7",
   "metadata": {
    "execution": {
     "iopub.execute_input": "2021-08-03T15:01:46.811246Z",
     "iopub.status.busy": "2021-08-03T15:01:46.810167Z",
     "iopub.status.idle": "2021-08-03T15:01:46.850754Z",
     "shell.execute_reply": "2021-08-03T15:01:46.849722Z"
    },
    "papermill": {
     "duration": 0.138037,
     "end_time": "2021-08-03T15:01:46.850903",
     "exception": false,
     "start_time": "2021-08-03T15:01:46.712866",
     "status": "completed"
    },
    "tags": []
   },
   "outputs": [
    {
     "data": {
      "text/plain": [
       "LinearRegression(n_jobs=-1)"
      ]
     },
     "execution_count": 78,
     "metadata": {},
     "output_type": "execute_result"
    }
   ],
   "source": [
    "# trained on validation set using the 1st level models predictions as features\n",
    "meta_model.fit(X_first_level, y_first_level)"
   ]
  },
  {
   "cell_type": "code",
   "execution_count": 79,
   "id": "f57fd289",
   "metadata": {
    "execution": {
     "iopub.execute_input": "2021-08-03T15:01:47.050940Z",
     "iopub.status.busy": "2021-08-03T15:01:47.049542Z",
     "iopub.status.idle": "2021-08-03T15:01:47.058182Z",
     "shell.execute_reply": "2021-08-03T15:01:47.058904Z"
    },
    "papermill": {
     "duration": 0.109234,
     "end_time": "2021-08-03T15:01:47.059154",
     "exception": false,
     "start_time": "2021-08-03T15:01:46.949920",
     "status": "completed"
    },
    "tags": []
   },
   "outputs": [],
   "source": [
    "# make predictions on test set using the 1st level models predictions as feature\n",
    "ensemble_pred_test = meta_model.predict(first_level_test).clip(0, 20)"
   ]
  },
  {
   "cell_type": "code",
   "execution_count": 80,
   "id": "dd1371af",
   "metadata": {
    "execution": {
     "iopub.execute_input": "2021-08-03T15:01:47.307428Z",
     "iopub.status.busy": "2021-08-03T15:01:47.306815Z",
     "iopub.status.idle": "2021-08-03T15:01:47.309502Z",
     "shell.execute_reply": "2021-08-03T15:01:47.309989Z"
    },
    "papermill": {
     "duration": 0.100911,
     "end_time": "2021-08-03T15:01:47.310122",
     "exception": false,
     "start_time": "2021-08-03T15:01:47.209211",
     "status": "completed"
    },
    "tags": []
   },
   "outputs": [],
   "source": [
    "# save ensemble model\n",
    "pickle.dump(meta_model, open('meta_model.sav', 'wb'))"
   ]
  },
  {
   "cell_type": "markdown",
   "id": "312c2f1a",
   "metadata": {
    "papermill": {
     "duration": 0.094164,
     "end_time": "2021-08-03T15:01:47.498579",
     "exception": false,
     "start_time": "2021-08-03T15:01:47.404415",
     "status": "completed"
    },
    "tags": []
   },
   "source": [
    "**Predict and submit task**"
   ]
  },
  {
   "cell_type": "code",
   "execution_count": 81,
   "id": "e7398585",
   "metadata": {
    "execution": {
     "iopub.execute_input": "2021-08-03T15:01:47.689230Z",
     "iopub.status.busy": "2021-08-03T15:01:47.688212Z",
     "iopub.status.idle": "2021-08-03T15:01:52.620384Z",
     "shell.execute_reply": "2021-08-03T15:01:52.619910Z"
    },
    "papermill": {
     "duration": 5.030443,
     "end_time": "2021-08-03T15:01:52.620557",
     "exception": false,
     "start_time": "2021-08-03T15:01:47.590114",
     "status": "completed"
    },
    "tags": []
   },
   "outputs": [
    {
     "name": "stdout",
     "output_type": "stream",
     "text": [
      "            ID  item_cnt_month\n",
      "0            0        0.497160\n",
      "1            1        0.290975\n",
      "2            2        0.820538\n",
      "3            3        0.396488\n",
      "4            4        1.640624\n",
      "...        ...             ...\n",
      "214195  214195        0.169234\n",
      "214196  214196        0.099426\n",
      "214197  214197        0.108887\n",
      "214198  214198        0.091597\n",
      "214199  214199        0.108881\n",
      "\n",
      "[214200 rows x 2 columns]\n",
      "            ID  item_cnt_month\n",
      "0            0        0.466711\n",
      "1            1        0.301054\n",
      "2            2        0.903041\n",
      "3            3        0.379483\n",
      "4            4        3.149060\n",
      "...        ...             ...\n",
      "214195  214195        0.110581\n",
      "214196  214196        0.036771\n",
      "214197  214197        0.055804\n",
      "214198  214198        0.040422\n",
      "214199  214199        0.057712\n",
      "\n",
      "[214200 rows x 2 columns]\n"
     ]
    }
   ],
   "source": [
    "lgb_submission = pd.DataFrame({\n",
    "    'ID': test.index, \n",
    "    'item_cnt_month': lgb_model.predict(X_test).clip(0, 20)\n",
    "})\n",
    "lgb_submission.to_csv('lgb_submission.csv', index=False)\n",
    "print(lgb_submission)\n",
    "\n",
    "ensemble_submission = pd.DataFrame({\n",
    "    'ID': test.index, \n",
    "    'item_cnt_month': ensemble_pred_test\n",
    "})\n",
    "ensemble_submission.to_csv('ensemble_submission.csv', index=False)\n",
    "print(ensemble_submission)"
   ]
  },
  {
   "cell_type": "markdown",
   "id": "33b4bc25",
   "metadata": {
    "papermill": {
     "duration": 0.094984,
     "end_time": "2021-08-03T15:01:52.815268",
     "exception": false,
     "start_time": "2021-08-03T15:01:52.720284",
     "status": "completed"
    },
    "tags": []
   },
   "source": [
    "**Total score**\n",
    "* LightGBM model (public score) - 0.8981\n",
    "* LightGBM model (private score) - 0.9120\n",
    "* Ensemble model (public score) - 0.9050\n",
    "* Ensemble model (private score) - 0.9070"
   ]
  }
 ],
 "metadata": {
  "kernelspec": {
   "display_name": "Python 3",
   "language": "python",
   "name": "python3"
  },
  "language_info": {
   "codemirror_mode": {
    "name": "ipython",
    "version": 3
   },
   "file_extension": ".py",
   "mimetype": "text/x-python",
   "name": "python",
   "nbconvert_exporter": "python",
   "pygments_lexer": "ipython3",
   "version": "3.7.10"
  },
  "papermill": {
   "default_parameters": {},
   "duration": 2822.658306,
   "end_time": "2021-08-03T15:01:55.024635",
   "environment_variables": {},
   "exception": null,
   "input_path": "__notebook__.ipynb",
   "output_path": "__notebook__.ipynb",
   "parameters": {},
   "start_time": "2021-08-03T14:14:52.366329",
   "version": "2.3.3"
  }
 },
 "nbformat": 4,
 "nbformat_minor": 5
}
